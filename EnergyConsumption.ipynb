{
  "nbformat": 4,
  "nbformat_minor": 0,
  "metadata": {
    "colab": {
      "provenance": [],
      "authorship_tag": "ABX9TyMfNasW6IG1UIlDbPtXRkdA",
      "include_colab_link": true
    },
    "kernelspec": {
      "name": "python3",
      "display_name": "Python 3"
    },
    "language_info": {
      "name": "python"
    }
  },
  "cells": [
    {
      "cell_type": "markdown",
      "metadata": {
        "id": "view-in-github",
        "colab_type": "text"
      },
      "source": [
        "<a href=\"https://colab.research.google.com/github/Ansh3931up/DS_Assignment/blob/main/EnergyConsumption.ipynb\" target=\"_parent\"><img src=\"https://colab.research.google.com/assets/colab-badge.svg\" alt=\"Open In Colab\"/></a>"
      ]
    },
    {
      "cell_type": "code",
      "execution_count": 3,
      "metadata": {
        "colab": {
          "base_uri": "https://localhost:8080/"
        },
        "id": "yQLeNJ84P_8K",
        "outputId": "e9221f0f-5a66-4ee5-cd2c-810dc20fe737"
      },
      "outputs": [
        {
          "output_type": "stream",
          "name": "stdout",
          "text": [
            "Drive already mounted at /content/drive; to attempt to forcibly remount, call drive.mount(\"/content/drive\", force_remount=True).\n"
          ]
        }
      ],
      "source": [
        "from google.colab import drive\n",
        "drive.mount('/content/drive')\n"
      ]
    },
    {
      "cell_type": "code",
      "source": [
        "#Libraries\n",
        "import pandas as pd\n",
        "import numpy as np\n",
        "import matplotlib.pyplot as plt\n",
        "import seaborn as sns\n",
        "from sklearn.model_selection import train_test_split\n",
        "from sklearn.preprocessing import StandardScaler\n",
        "from sklearn.metrics import mean_absolute_error, mean_squared_error, r2_score\n",
        "import tensorflow as tf\n",
        "from tensorflow.keras.models import Sequential\n",
        "from tensorflow.keras.layers import Dense, LSTM\n"
      ],
      "metadata": {
        "id": "F_YefNrOQQpH"
      },
      "execution_count": 4,
      "outputs": []
    },
    {
      "cell_type": "code",
      "source": [
        "import kagglehub\n",
        "\n",
        "# Download latest version\n",
        "path = kagglehub.dataset_download(\"arashnic/building-sites-power-consumption-dataset\")\n",
        "\n",
        "print(\"Path to dataset files:\", path)"
      ],
      "metadata": {
        "colab": {
          "base_uri": "https://localhost:8080/"
        },
        "id": "swW-6BK1Q13i",
        "outputId": "488e5bfc-00bb-4bf4-d463-9abca0aabb41"
      },
      "execution_count": 5,
      "outputs": [
        {
          "output_type": "stream",
          "name": "stdout",
          "text": [
            "Path to dataset files: /root/.cache/kagglehub/datasets/arashnic/building-sites-power-consumption-dataset/versions/1\n"
          ]
        }
      ]
    },
    {
      "cell_type": "code",
      "source": [
        "# Load dataset\n",
        "data = pd.read_csv('/content/power-laws-forecasting-energy-consumption-training-data.csv')\n",
        "data.head()\n"
      ],
      "metadata": {
        "colab": {
          "base_uri": "https://localhost:8080/",
          "height": 206
        },
        "id": "Im-JWFY6RWeD",
        "outputId": "3687a259-7fb6-4434-f585-0544701f8d6b"
      },
      "execution_count": 5,
      "outputs": [
        {
          "output_type": "execute_result",
          "data": {
            "text/plain": [
              "            obs_id;SiteId;Timestamp;ForecastId;Value\n",
              "0  4852050;42;2016-10-18T02:45:00+00:00;1087;2639...\n",
              "1  1638923;42;2016-10-18T11:45:00+00:00;1087;4295...\n",
              "2  5748910;42;2016-10-18T20:45:00+00:00;1087;2709...\n",
              "3  38199;42;2016-10-20T10:45:00+00:00;1087;50211....\n",
              "4  1338204;42;2016-10-20T18:45:00+00:00;1087;5050..."
            ],
            "text/html": [
              "\n",
              "  <div id=\"df-b5be4fa9-82ef-465e-ad4a-eb0604cc9572\" class=\"colab-df-container\">\n",
              "    <div>\n",
              "<style scoped>\n",
              "    .dataframe tbody tr th:only-of-type {\n",
              "        vertical-align: middle;\n",
              "    }\n",
              "\n",
              "    .dataframe tbody tr th {\n",
              "        vertical-align: top;\n",
              "    }\n",
              "\n",
              "    .dataframe thead th {\n",
              "        text-align: right;\n",
              "    }\n",
              "</style>\n",
              "<table border=\"1\" class=\"dataframe\">\n",
              "  <thead>\n",
              "    <tr style=\"text-align: right;\">\n",
              "      <th></th>\n",
              "      <th>obs_id;SiteId;Timestamp;ForecastId;Value</th>\n",
              "    </tr>\n",
              "  </thead>\n",
              "  <tbody>\n",
              "    <tr>\n",
              "      <th>0</th>\n",
              "      <td>4852050;42;2016-10-18T02:45:00+00:00;1087;2639...</td>\n",
              "    </tr>\n",
              "    <tr>\n",
              "      <th>1</th>\n",
              "      <td>1638923;42;2016-10-18T11:45:00+00:00;1087;4295...</td>\n",
              "    </tr>\n",
              "    <tr>\n",
              "      <th>2</th>\n",
              "      <td>5748910;42;2016-10-18T20:45:00+00:00;1087;2709...</td>\n",
              "    </tr>\n",
              "    <tr>\n",
              "      <th>3</th>\n",
              "      <td>38199;42;2016-10-20T10:45:00+00:00;1087;50211....</td>\n",
              "    </tr>\n",
              "    <tr>\n",
              "      <th>4</th>\n",
              "      <td>1338204;42;2016-10-20T18:45:00+00:00;1087;5050...</td>\n",
              "    </tr>\n",
              "  </tbody>\n",
              "</table>\n",
              "</div>\n",
              "    <div class=\"colab-df-buttons\">\n",
              "\n",
              "  <div class=\"colab-df-container\">\n",
              "    <button class=\"colab-df-convert\" onclick=\"convertToInteractive('df-b5be4fa9-82ef-465e-ad4a-eb0604cc9572')\"\n",
              "            title=\"Convert this dataframe to an interactive table.\"\n",
              "            style=\"display:none;\">\n",
              "\n",
              "  <svg xmlns=\"http://www.w3.org/2000/svg\" height=\"24px\" viewBox=\"0 -960 960 960\">\n",
              "    <path d=\"M120-120v-720h720v720H120Zm60-500h600v-160H180v160Zm220 220h160v-160H400v160Zm0 220h160v-160H400v160ZM180-400h160v-160H180v160Zm440 0h160v-160H620v160ZM180-180h160v-160H180v160Zm440 0h160v-160H620v160Z\"/>\n",
              "  </svg>\n",
              "    </button>\n",
              "\n",
              "  <style>\n",
              "    .colab-df-container {\n",
              "      display:flex;\n",
              "      gap: 12px;\n",
              "    }\n",
              "\n",
              "    .colab-df-convert {\n",
              "      background-color: #E8F0FE;\n",
              "      border: none;\n",
              "      border-radius: 50%;\n",
              "      cursor: pointer;\n",
              "      display: none;\n",
              "      fill: #1967D2;\n",
              "      height: 32px;\n",
              "      padding: 0 0 0 0;\n",
              "      width: 32px;\n",
              "    }\n",
              "\n",
              "    .colab-df-convert:hover {\n",
              "      background-color: #E2EBFA;\n",
              "      box-shadow: 0px 1px 2px rgba(60, 64, 67, 0.3), 0px 1px 3px 1px rgba(60, 64, 67, 0.15);\n",
              "      fill: #174EA6;\n",
              "    }\n",
              "\n",
              "    .colab-df-buttons div {\n",
              "      margin-bottom: 4px;\n",
              "    }\n",
              "\n",
              "    [theme=dark] .colab-df-convert {\n",
              "      background-color: #3B4455;\n",
              "      fill: #D2E3FC;\n",
              "    }\n",
              "\n",
              "    [theme=dark] .colab-df-convert:hover {\n",
              "      background-color: #434B5C;\n",
              "      box-shadow: 0px 1px 3px 1px rgba(0, 0, 0, 0.15);\n",
              "      filter: drop-shadow(0px 1px 2px rgba(0, 0, 0, 0.3));\n",
              "      fill: #FFFFFF;\n",
              "    }\n",
              "  </style>\n",
              "\n",
              "    <script>\n",
              "      const buttonEl =\n",
              "        document.querySelector('#df-b5be4fa9-82ef-465e-ad4a-eb0604cc9572 button.colab-df-convert');\n",
              "      buttonEl.style.display =\n",
              "        google.colab.kernel.accessAllowed ? 'block' : 'none';\n",
              "\n",
              "      async function convertToInteractive(key) {\n",
              "        const element = document.querySelector('#df-b5be4fa9-82ef-465e-ad4a-eb0604cc9572');\n",
              "        const dataTable =\n",
              "          await google.colab.kernel.invokeFunction('convertToInteractive',\n",
              "                                                    [key], {});\n",
              "        if (!dataTable) return;\n",
              "\n",
              "        const docLinkHtml = 'Like what you see? Visit the ' +\n",
              "          '<a target=\"_blank\" href=https://colab.research.google.com/notebooks/data_table.ipynb>data table notebook</a>'\n",
              "          + ' to learn more about interactive tables.';\n",
              "        element.innerHTML = '';\n",
              "        dataTable['output_type'] = 'display_data';\n",
              "        await google.colab.output.renderOutput(dataTable, element);\n",
              "        const docLink = document.createElement('div');\n",
              "        docLink.innerHTML = docLinkHtml;\n",
              "        element.appendChild(docLink);\n",
              "      }\n",
              "    </script>\n",
              "  </div>\n",
              "\n",
              "\n",
              "<div id=\"df-53b1104d-41c1-4fe6-82b7-0ac0fb21462d\">\n",
              "  <button class=\"colab-df-quickchart\" onclick=\"quickchart('df-53b1104d-41c1-4fe6-82b7-0ac0fb21462d')\"\n",
              "            title=\"Suggest charts\"\n",
              "            style=\"display:none;\">\n",
              "\n",
              "<svg xmlns=\"http://www.w3.org/2000/svg\" height=\"24px\"viewBox=\"0 0 24 24\"\n",
              "     width=\"24px\">\n",
              "    <g>\n",
              "        <path d=\"M19 3H5c-1.1 0-2 .9-2 2v14c0 1.1.9 2 2 2h14c1.1 0 2-.9 2-2V5c0-1.1-.9-2-2-2zM9 17H7v-7h2v7zm4 0h-2V7h2v10zm4 0h-2v-4h2v4z\"/>\n",
              "    </g>\n",
              "</svg>\n",
              "  </button>\n",
              "\n",
              "<style>\n",
              "  .colab-df-quickchart {\n",
              "      --bg-color: #E8F0FE;\n",
              "      --fill-color: #1967D2;\n",
              "      --hover-bg-color: #E2EBFA;\n",
              "      --hover-fill-color: #174EA6;\n",
              "      --disabled-fill-color: #AAA;\n",
              "      --disabled-bg-color: #DDD;\n",
              "  }\n",
              "\n",
              "  [theme=dark] .colab-df-quickchart {\n",
              "      --bg-color: #3B4455;\n",
              "      --fill-color: #D2E3FC;\n",
              "      --hover-bg-color: #434B5C;\n",
              "      --hover-fill-color: #FFFFFF;\n",
              "      --disabled-bg-color: #3B4455;\n",
              "      --disabled-fill-color: #666;\n",
              "  }\n",
              "\n",
              "  .colab-df-quickchart {\n",
              "    background-color: var(--bg-color);\n",
              "    border: none;\n",
              "    border-radius: 50%;\n",
              "    cursor: pointer;\n",
              "    display: none;\n",
              "    fill: var(--fill-color);\n",
              "    height: 32px;\n",
              "    padding: 0;\n",
              "    width: 32px;\n",
              "  }\n",
              "\n",
              "  .colab-df-quickchart:hover {\n",
              "    background-color: var(--hover-bg-color);\n",
              "    box-shadow: 0 1px 2px rgba(60, 64, 67, 0.3), 0 1px 3px 1px rgba(60, 64, 67, 0.15);\n",
              "    fill: var(--button-hover-fill-color);\n",
              "  }\n",
              "\n",
              "  .colab-df-quickchart-complete:disabled,\n",
              "  .colab-df-quickchart-complete:disabled:hover {\n",
              "    background-color: var(--disabled-bg-color);\n",
              "    fill: var(--disabled-fill-color);\n",
              "    box-shadow: none;\n",
              "  }\n",
              "\n",
              "  .colab-df-spinner {\n",
              "    border: 2px solid var(--fill-color);\n",
              "    border-color: transparent;\n",
              "    border-bottom-color: var(--fill-color);\n",
              "    animation:\n",
              "      spin 1s steps(1) infinite;\n",
              "  }\n",
              "\n",
              "  @keyframes spin {\n",
              "    0% {\n",
              "      border-color: transparent;\n",
              "      border-bottom-color: var(--fill-color);\n",
              "      border-left-color: var(--fill-color);\n",
              "    }\n",
              "    20% {\n",
              "      border-color: transparent;\n",
              "      border-left-color: var(--fill-color);\n",
              "      border-top-color: var(--fill-color);\n",
              "    }\n",
              "    30% {\n",
              "      border-color: transparent;\n",
              "      border-left-color: var(--fill-color);\n",
              "      border-top-color: var(--fill-color);\n",
              "      border-right-color: var(--fill-color);\n",
              "    }\n",
              "    40% {\n",
              "      border-color: transparent;\n",
              "      border-right-color: var(--fill-color);\n",
              "      border-top-color: var(--fill-color);\n",
              "    }\n",
              "    60% {\n",
              "      border-color: transparent;\n",
              "      border-right-color: var(--fill-color);\n",
              "    }\n",
              "    80% {\n",
              "      border-color: transparent;\n",
              "      border-right-color: var(--fill-color);\n",
              "      border-bottom-color: var(--fill-color);\n",
              "    }\n",
              "    90% {\n",
              "      border-color: transparent;\n",
              "      border-bottom-color: var(--fill-color);\n",
              "    }\n",
              "  }\n",
              "</style>\n",
              "\n",
              "  <script>\n",
              "    async function quickchart(key) {\n",
              "      const quickchartButtonEl =\n",
              "        document.querySelector('#' + key + ' button');\n",
              "      quickchartButtonEl.disabled = true;  // To prevent multiple clicks.\n",
              "      quickchartButtonEl.classList.add('colab-df-spinner');\n",
              "      try {\n",
              "        const charts = await google.colab.kernel.invokeFunction(\n",
              "            'suggestCharts', [key], {});\n",
              "      } catch (error) {\n",
              "        console.error('Error during call to suggestCharts:', error);\n",
              "      }\n",
              "      quickchartButtonEl.classList.remove('colab-df-spinner');\n",
              "      quickchartButtonEl.classList.add('colab-df-quickchart-complete');\n",
              "    }\n",
              "    (() => {\n",
              "      let quickchartButtonEl =\n",
              "        document.querySelector('#df-53b1104d-41c1-4fe6-82b7-0ac0fb21462d button');\n",
              "      quickchartButtonEl.style.display =\n",
              "        google.colab.kernel.accessAllowed ? 'block' : 'none';\n",
              "    })();\n",
              "  </script>\n",
              "</div>\n",
              "\n",
              "    </div>\n",
              "  </div>\n"
            ],
            "application/vnd.google.colaboratory.intrinsic+json": {
              "type": "dataframe",
              "variable_name": "data"
            }
          },
          "metadata": {},
          "execution_count": 5
        }
      ]
    },
    {
      "cell_type": "code",
      "source": [
        "data.info()  # Overview of data types and any missing values\n",
        "data.describe()  # Summary statistics\n"
      ],
      "metadata": {
        "colab": {
          "base_uri": "https://localhost:8080/",
          "height": 320
        },
        "id": "6xyV4IGeSjit",
        "outputId": "93aa64f4-8c6c-4d44-d43a-7c6dbc48ae13"
      },
      "execution_count": 6,
      "outputs": [
        {
          "output_type": "stream",
          "name": "stdout",
          "text": [
            "<class 'pandas.core.frame.DataFrame'>\n",
            "RangeIndex: 6559830 entries, 0 to 6559829\n",
            "Data columns (total 1 columns):\n",
            " #   Column                                    Dtype \n",
            "---  ------                                    ----- \n",
            " 0   obs_id;SiteId;Timestamp;ForecastId;Value  object\n",
            "dtypes: object(1)\n",
            "memory usage: 50.0+ MB\n"
          ]
        },
        {
          "output_type": "execute_result",
          "data": {
            "text/plain": [
              "                 obs_id;SiteId;Timestamp;ForecastId;Value\n",
              "count                                             6559830\n",
              "unique                                            6559830\n",
              "top     4852050;42;2016-10-18T02:45:00+00:00;1087;2639...\n",
              "freq                                                    1"
            ],
            "text/html": [
              "\n",
              "  <div id=\"df-0d43ff46-3f17-4ab3-8b70-3e5cb301bf0c\" class=\"colab-df-container\">\n",
              "    <div>\n",
              "<style scoped>\n",
              "    .dataframe tbody tr th:only-of-type {\n",
              "        vertical-align: middle;\n",
              "    }\n",
              "\n",
              "    .dataframe tbody tr th {\n",
              "        vertical-align: top;\n",
              "    }\n",
              "\n",
              "    .dataframe thead th {\n",
              "        text-align: right;\n",
              "    }\n",
              "</style>\n",
              "<table border=\"1\" class=\"dataframe\">\n",
              "  <thead>\n",
              "    <tr style=\"text-align: right;\">\n",
              "      <th></th>\n",
              "      <th>obs_id;SiteId;Timestamp;ForecastId;Value</th>\n",
              "    </tr>\n",
              "  </thead>\n",
              "  <tbody>\n",
              "    <tr>\n",
              "      <th>count</th>\n",
              "      <td>6559830</td>\n",
              "    </tr>\n",
              "    <tr>\n",
              "      <th>unique</th>\n",
              "      <td>6559830</td>\n",
              "    </tr>\n",
              "    <tr>\n",
              "      <th>top</th>\n",
              "      <td>4852050;42;2016-10-18T02:45:00+00:00;1087;2639...</td>\n",
              "    </tr>\n",
              "    <tr>\n",
              "      <th>freq</th>\n",
              "      <td>1</td>\n",
              "    </tr>\n",
              "  </tbody>\n",
              "</table>\n",
              "</div>\n",
              "    <div class=\"colab-df-buttons\">\n",
              "\n",
              "  <div class=\"colab-df-container\">\n",
              "    <button class=\"colab-df-convert\" onclick=\"convertToInteractive('df-0d43ff46-3f17-4ab3-8b70-3e5cb301bf0c')\"\n",
              "            title=\"Convert this dataframe to an interactive table.\"\n",
              "            style=\"display:none;\">\n",
              "\n",
              "  <svg xmlns=\"http://www.w3.org/2000/svg\" height=\"24px\" viewBox=\"0 -960 960 960\">\n",
              "    <path d=\"M120-120v-720h720v720H120Zm60-500h600v-160H180v160Zm220 220h160v-160H400v160Zm0 220h160v-160H400v160ZM180-400h160v-160H180v160Zm440 0h160v-160H620v160ZM180-180h160v-160H180v160Zm440 0h160v-160H620v160Z\"/>\n",
              "  </svg>\n",
              "    </button>\n",
              "\n",
              "  <style>\n",
              "    .colab-df-container {\n",
              "      display:flex;\n",
              "      gap: 12px;\n",
              "    }\n",
              "\n",
              "    .colab-df-convert {\n",
              "      background-color: #E8F0FE;\n",
              "      border: none;\n",
              "      border-radius: 50%;\n",
              "      cursor: pointer;\n",
              "      display: none;\n",
              "      fill: #1967D2;\n",
              "      height: 32px;\n",
              "      padding: 0 0 0 0;\n",
              "      width: 32px;\n",
              "    }\n",
              "\n",
              "    .colab-df-convert:hover {\n",
              "      background-color: #E2EBFA;\n",
              "      box-shadow: 0px 1px 2px rgba(60, 64, 67, 0.3), 0px 1px 3px 1px rgba(60, 64, 67, 0.15);\n",
              "      fill: #174EA6;\n",
              "    }\n",
              "\n",
              "    .colab-df-buttons div {\n",
              "      margin-bottom: 4px;\n",
              "    }\n",
              "\n",
              "    [theme=dark] .colab-df-convert {\n",
              "      background-color: #3B4455;\n",
              "      fill: #D2E3FC;\n",
              "    }\n",
              "\n",
              "    [theme=dark] .colab-df-convert:hover {\n",
              "      background-color: #434B5C;\n",
              "      box-shadow: 0px 1px 3px 1px rgba(0, 0, 0, 0.15);\n",
              "      filter: drop-shadow(0px 1px 2px rgba(0, 0, 0, 0.3));\n",
              "      fill: #FFFFFF;\n",
              "    }\n",
              "  </style>\n",
              "\n",
              "    <script>\n",
              "      const buttonEl =\n",
              "        document.querySelector('#df-0d43ff46-3f17-4ab3-8b70-3e5cb301bf0c button.colab-df-convert');\n",
              "      buttonEl.style.display =\n",
              "        google.colab.kernel.accessAllowed ? 'block' : 'none';\n",
              "\n",
              "      async function convertToInteractive(key) {\n",
              "        const element = document.querySelector('#df-0d43ff46-3f17-4ab3-8b70-3e5cb301bf0c');\n",
              "        const dataTable =\n",
              "          await google.colab.kernel.invokeFunction('convertToInteractive',\n",
              "                                                    [key], {});\n",
              "        if (!dataTable) return;\n",
              "\n",
              "        const docLinkHtml = 'Like what you see? Visit the ' +\n",
              "          '<a target=\"_blank\" href=https://colab.research.google.com/notebooks/data_table.ipynb>data table notebook</a>'\n",
              "          + ' to learn more about interactive tables.';\n",
              "        element.innerHTML = '';\n",
              "        dataTable['output_type'] = 'display_data';\n",
              "        await google.colab.output.renderOutput(dataTable, element);\n",
              "        const docLink = document.createElement('div');\n",
              "        docLink.innerHTML = docLinkHtml;\n",
              "        element.appendChild(docLink);\n",
              "      }\n",
              "    </script>\n",
              "  </div>\n",
              "\n",
              "\n",
              "<div id=\"df-7149c668-0b30-4e2e-a774-88cbabb73cdb\">\n",
              "  <button class=\"colab-df-quickchart\" onclick=\"quickchart('df-7149c668-0b30-4e2e-a774-88cbabb73cdb')\"\n",
              "            title=\"Suggest charts\"\n",
              "            style=\"display:none;\">\n",
              "\n",
              "<svg xmlns=\"http://www.w3.org/2000/svg\" height=\"24px\"viewBox=\"0 0 24 24\"\n",
              "     width=\"24px\">\n",
              "    <g>\n",
              "        <path d=\"M19 3H5c-1.1 0-2 .9-2 2v14c0 1.1.9 2 2 2h14c1.1 0 2-.9 2-2V5c0-1.1-.9-2-2-2zM9 17H7v-7h2v7zm4 0h-2V7h2v10zm4 0h-2v-4h2v4z\"/>\n",
              "    </g>\n",
              "</svg>\n",
              "  </button>\n",
              "\n",
              "<style>\n",
              "  .colab-df-quickchart {\n",
              "      --bg-color: #E8F0FE;\n",
              "      --fill-color: #1967D2;\n",
              "      --hover-bg-color: #E2EBFA;\n",
              "      --hover-fill-color: #174EA6;\n",
              "      --disabled-fill-color: #AAA;\n",
              "      --disabled-bg-color: #DDD;\n",
              "  }\n",
              "\n",
              "  [theme=dark] .colab-df-quickchart {\n",
              "      --bg-color: #3B4455;\n",
              "      --fill-color: #D2E3FC;\n",
              "      --hover-bg-color: #434B5C;\n",
              "      --hover-fill-color: #FFFFFF;\n",
              "      --disabled-bg-color: #3B4455;\n",
              "      --disabled-fill-color: #666;\n",
              "  }\n",
              "\n",
              "  .colab-df-quickchart {\n",
              "    background-color: var(--bg-color);\n",
              "    border: none;\n",
              "    border-radius: 50%;\n",
              "    cursor: pointer;\n",
              "    display: none;\n",
              "    fill: var(--fill-color);\n",
              "    height: 32px;\n",
              "    padding: 0;\n",
              "    width: 32px;\n",
              "  }\n",
              "\n",
              "  .colab-df-quickchart:hover {\n",
              "    background-color: var(--hover-bg-color);\n",
              "    box-shadow: 0 1px 2px rgba(60, 64, 67, 0.3), 0 1px 3px 1px rgba(60, 64, 67, 0.15);\n",
              "    fill: var(--button-hover-fill-color);\n",
              "  }\n",
              "\n",
              "  .colab-df-quickchart-complete:disabled,\n",
              "  .colab-df-quickchart-complete:disabled:hover {\n",
              "    background-color: var(--disabled-bg-color);\n",
              "    fill: var(--disabled-fill-color);\n",
              "    box-shadow: none;\n",
              "  }\n",
              "\n",
              "  .colab-df-spinner {\n",
              "    border: 2px solid var(--fill-color);\n",
              "    border-color: transparent;\n",
              "    border-bottom-color: var(--fill-color);\n",
              "    animation:\n",
              "      spin 1s steps(1) infinite;\n",
              "  }\n",
              "\n",
              "  @keyframes spin {\n",
              "    0% {\n",
              "      border-color: transparent;\n",
              "      border-bottom-color: var(--fill-color);\n",
              "      border-left-color: var(--fill-color);\n",
              "    }\n",
              "    20% {\n",
              "      border-color: transparent;\n",
              "      border-left-color: var(--fill-color);\n",
              "      border-top-color: var(--fill-color);\n",
              "    }\n",
              "    30% {\n",
              "      border-color: transparent;\n",
              "      border-left-color: var(--fill-color);\n",
              "      border-top-color: var(--fill-color);\n",
              "      border-right-color: var(--fill-color);\n",
              "    }\n",
              "    40% {\n",
              "      border-color: transparent;\n",
              "      border-right-color: var(--fill-color);\n",
              "      border-top-color: var(--fill-color);\n",
              "    }\n",
              "    60% {\n",
              "      border-color: transparent;\n",
              "      border-right-color: var(--fill-color);\n",
              "    }\n",
              "    80% {\n",
              "      border-color: transparent;\n",
              "      border-right-color: var(--fill-color);\n",
              "      border-bottom-color: var(--fill-color);\n",
              "    }\n",
              "    90% {\n",
              "      border-color: transparent;\n",
              "      border-bottom-color: var(--fill-color);\n",
              "    }\n",
              "  }\n",
              "</style>\n",
              "\n",
              "  <script>\n",
              "    async function quickchart(key) {\n",
              "      const quickchartButtonEl =\n",
              "        document.querySelector('#' + key + ' button');\n",
              "      quickchartButtonEl.disabled = true;  // To prevent multiple clicks.\n",
              "      quickchartButtonEl.classList.add('colab-df-spinner');\n",
              "      try {\n",
              "        const charts = await google.colab.kernel.invokeFunction(\n",
              "            'suggestCharts', [key], {});\n",
              "      } catch (error) {\n",
              "        console.error('Error during call to suggestCharts:', error);\n",
              "      }\n",
              "      quickchartButtonEl.classList.remove('colab-df-spinner');\n",
              "      quickchartButtonEl.classList.add('colab-df-quickchart-complete');\n",
              "    }\n",
              "    (() => {\n",
              "      let quickchartButtonEl =\n",
              "        document.querySelector('#df-7149c668-0b30-4e2e-a774-88cbabb73cdb button');\n",
              "      quickchartButtonEl.style.display =\n",
              "        google.colab.kernel.accessAllowed ? 'block' : 'none';\n",
              "    })();\n",
              "  </script>\n",
              "</div>\n",
              "\n",
              "    </div>\n",
              "  </div>\n"
            ],
            "application/vnd.google.colaboratory.intrinsic+json": {
              "type": "dataframe",
              "summary": "{\n  \"name\": \"data\",\n  \"rows\": 4,\n  \"fields\": [\n    {\n      \"column\": \"obs_id;SiteId;Timestamp;ForecastId;Value\",\n      \"properties\": {\n        \"dtype\": \"string\",\n        \"num_unique_values\": 3,\n        \"samples\": [\n          \"6559830\",\n          \"4852050;42;2016-10-18T02:45:00+00:00;1087;26397.049622843042\",\n          \"1\"\n        ],\n        \"semantic_type\": \"\",\n        \"description\": \"\"\n      }\n    }\n  ]\n}"
            }
          },
          "metadata": {},
          "execution_count": 6
        }
      ]
    },
    {
      "cell_type": "code",
      "source": [
        "\n",
        "data = pd.read_csv('/content/power-laws-forecasting-energy-consumption-training-data.csv', sep=';', header=None, names=['obs_id', 'SiteId', 'Timestamp', 'ForecastId', 'Value'])\n",
        "print(data.head())\n"
      ],
      "metadata": {
        "colab": {
          "base_uri": "https://localhost:8080/"
        },
        "id": "nC2tZIzuVfRI",
        "outputId": "1dbfe90b-15b1-4c28-e83f-bc6b06cf1baa"
      },
      "execution_count": 7,
      "outputs": [
        {
          "output_type": "stream",
          "name": "stderr",
          "text": [
            "<ipython-input-7-388b082dfb7e>:1: DtypeWarning: Columns (0,1,3,4) have mixed types. Specify dtype option on import or set low_memory=False.\n",
            "  data = pd.read_csv('/content/power-laws-forecasting-energy-consumption-training-data.csv', sep=';', header=None, names=['obs_id', 'SiteId', 'Timestamp', 'ForecastId', 'Value'])\n"
          ]
        },
        {
          "output_type": "stream",
          "name": "stdout",
          "text": [
            "    obs_id  SiteId                  Timestamp  ForecastId               Value\n",
            "0   obs_id  SiteId                  Timestamp  ForecastId               Value\n",
            "1  4852050      42  2016-10-18T02:45:00+00:00        1087  26397.049622843042\n",
            "2  1638923      42  2016-10-18T11:45:00+00:00        1087  42958.364641002845\n",
            "3  5748910      42  2016-10-18T20:45:00+00:00        1087   27096.91966586979\n",
            "4    38199      42  2016-10-20T10:45:00+00:00        1087  50211.408086906886\n"
          ]
        }
      ]
    },
    {
      "cell_type": "code",
      "source": [
        "print(data.info())\n",
        "\n"
      ],
      "metadata": {
        "colab": {
          "base_uri": "https://localhost:8080/"
        },
        "id": "vh4YWW_HVuse",
        "outputId": "2117c539-cb75-48e9-fc85-5d96a87a9a4d"
      },
      "execution_count": 8,
      "outputs": [
        {
          "output_type": "stream",
          "name": "stdout",
          "text": [
            "<class 'pandas.core.frame.DataFrame'>\n",
            "RangeIndex: 6559831 entries, 0 to 6559830\n",
            "Data columns (total 5 columns):\n",
            " #   Column      Dtype \n",
            "---  ------      ----- \n",
            " 0   obs_id      object\n",
            " 1   SiteId      object\n",
            " 2   Timestamp   object\n",
            " 3   ForecastId  object\n",
            " 4   Value       object\n",
            "dtypes: object(5)\n",
            "memory usage: 250.2+ MB\n",
            "None\n"
          ]
        }
      ]
    },
    {
      "cell_type": "code",
      "source": [
        "# Display the first few rows\n",
        "print(data.head(10))\n"
      ],
      "metadata": {
        "colab": {
          "base_uri": "https://localhost:8080/"
        },
        "id": "E3kMxkqCVuIo",
        "outputId": "86b01082-6f8b-4baa-e06a-e4cd5d9b591d"
      },
      "execution_count": 9,
      "outputs": [
        {
          "output_type": "stream",
          "name": "stdout",
          "text": [
            "    obs_id  SiteId                  Timestamp  ForecastId               Value\n",
            "0   obs_id  SiteId                  Timestamp  ForecastId               Value\n",
            "1  4852050      42  2016-10-18T02:45:00+00:00        1087  26397.049622843042\n",
            "2  1638923      42  2016-10-18T11:45:00+00:00        1087  42958.364641002845\n",
            "3  5748910      42  2016-10-18T20:45:00+00:00        1087   27096.91966586979\n",
            "4    38199      42  2016-10-20T10:45:00+00:00        1087  50211.408086906886\n",
            "5  1338204      42  2016-10-20T18:45:00+00:00        1087   50503.30510485219\n",
            "6   369980      42  2016-10-21T12:45:00+00:00        1087  51052.959138643935\n",
            "7  2261640      42  2016-10-23T11:45:00+00:00        1087   52669.48823802522\n",
            "8  2750701      42  2016-10-25T04:45:00+00:00        1087   24661.03051611572\n",
            "9  2228603      42  2016-10-26T01:45:00+00:00        1087  26748.691644461356\n"
          ]
        }
      ]
    },
    {
      "cell_type": "code",
      "source": [
        "# Drop the first row if it's a duplicate header\n",
        "data = data.drop(0).reset_index(drop=True)\n"
      ],
      "metadata": {
        "id": "kmHzIPCaWQEE"
      },
      "execution_count": 10,
      "outputs": []
    },
    {
      "cell_type": "code",
      "source": [
        "# Convert 'Timestamp' to datetime and 'Value' to float\n",
        "data['Timestamp'] = pd.to_datetime(data['Timestamp'], errors='coerce')\n",
        "data['Value'] = pd.to_numeric(data['Value'], errors='coerce')\n",
        "\n"
      ],
      "metadata": {
        "id": "Ac0sLN16WSNr"
      },
      "execution_count": 11,
      "outputs": []
    },
    {
      "cell_type": "code",
      "source": [
        "# Drop rows with NaT in 'Timestamp' or NaN in 'Value'\n",
        "data = data.dropna(subset=['Timestamp', 'Value'])\n"
      ],
      "metadata": {
        "id": "N8DiPfnEWawY"
      },
      "execution_count": 12,
      "outputs": []
    },
    {
      "cell_type": "code",
      "source": [
        "print(data.info())\n",
        "print(data.head())\n",
        "\n"
      ],
      "metadata": {
        "colab": {
          "base_uri": "https://localhost:8080/"
        },
        "id": "aAdGskuNWc77",
        "outputId": "c0cc1658-45a1-4a12-fb4b-6d2b99796762"
      },
      "execution_count": 13,
      "outputs": [
        {
          "output_type": "stream",
          "name": "stdout",
          "text": [
            "<class 'pandas.core.frame.DataFrame'>\n",
            "Index: 6473229 entries, 0 to 6559829\n",
            "Data columns (total 5 columns):\n",
            " #   Column      Dtype              \n",
            "---  ------      -----              \n",
            " 0   obs_id      object             \n",
            " 1   SiteId      object             \n",
            " 2   Timestamp   datetime64[ns, UTC]\n",
            " 3   ForecastId  object             \n",
            " 4   Value       float64            \n",
            "dtypes: datetime64[ns, UTC](1), float64(1), object(3)\n",
            "memory usage: 296.3+ MB\n",
            "None\n",
            "    obs_id SiteId                 Timestamp ForecastId         Value\n",
            "0  4852050     42 2016-10-18 02:45:00+00:00       1087  26397.049623\n",
            "1  1638923     42 2016-10-18 11:45:00+00:00       1087  42958.364641\n",
            "2  5748910     42 2016-10-18 20:45:00+00:00       1087  27096.919666\n",
            "3    38199     42 2016-10-20 10:45:00+00:00       1087  50211.408087\n",
            "4  1338204     42 2016-10-20 18:45:00+00:00       1087  50503.305105\n"
          ]
        }
      ]
    },
    {
      "cell_type": "code",
      "source": [
        "# Extract additional time-related features from Timestamp\n",
        "data['hour'] = data['Timestamp'].dt.hour\n",
        "data['day'] = data['Timestamp'].dt.day\n",
        "data['month'] = data['Timestamp'].dt.month\n",
        "data['dayofweek'] = data['Timestamp'].dt.dayofweek\n"
      ],
      "metadata": {
        "id": "PcHzVGhJWsLa"
      },
      "execution_count": 14,
      "outputs": []
    },
    {
      "cell_type": "code",
      "source": [
        "\n",
        "# Calculate the mean of the target column (replace 'target_column' with the actual name)\n",
        "average_target_value = data['Value'].mean()\n",
        "\n",
        "print(\"Average Target Value:\", average_target_value)\n"
      ],
      "metadata": {
        "colab": {
          "base_uri": "https://localhost:8080/"
        },
        "id": "xtYDKdIM5uPk",
        "outputId": "d3f41d09-591d-429c-e87c-9818927dfee3"
      },
      "execution_count": 16,
      "outputs": [
        {
          "output_type": "stream",
          "name": "stdout",
          "text": [
            "Average Target Value: 356010.41390124883\n"
          ]
        }
      ]
    },
    {
      "cell_type": "code",
      "source": [
        "from sklearn.model_selection import train_test_split\n",
        "\n",
        "# Define features (X) and target (y)\n",
        "X = data[['hour', 'day', 'month', 'dayofweek']]\n",
        "y = data['Value']\n",
        "\n",
        "# Split the dataset\n",
        "X_train, X_test, y_train, y_test = train_test_split(X, y, test_size=0.2, random_state=42)\n",
        "\n"
      ],
      "metadata": {
        "id": "jovGjxuVWwzb"
      },
      "execution_count": 16,
      "outputs": []
    },
    {
      "cell_type": "code",
      "source": [
        "import tensorflow as tf\n",
        "from tensorflow.keras.models import Sequential\n",
        "from tensorflow.keras.layers import Dense\n",
        "\n",
        "# Define the MLP model\n",
        "model = Sequential([\n",
        "    Dense(64, activation='relu', input_shape=(X_train.shape[1],)),\n",
        "    Dense(32, activation='relu'),\n",
        "    Dense(1)  # Output layer for regression\n",
        "])\n",
        "\n",
        "# Compile the model\n",
        "model.compile(optimizer='adam', loss='mse', metrics=['mae'])\n",
        "\n",
        "# Train the model\n",
        "history = model.fit(X_train, y_train, validation_data=(X_test, y_test), epochs=10, batch_size=32)\n"
      ],
      "metadata": {
        "colab": {
          "base_uri": "https://localhost:8080/"
        },
        "id": "RFcKl7OAW1k7",
        "outputId": "3ac43ea8-a3c8-48f1-b043-d138683dced7"
      },
      "execution_count": 17,
      "outputs": [
        {
          "output_type": "stream",
          "name": "stderr",
          "text": [
            "/usr/local/lib/python3.10/dist-packages/keras/src/layers/core/dense.py:87: UserWarning: Do not pass an `input_shape`/`input_dim` argument to a layer. When using Sequential models, prefer using an `Input(shape)` object as the first layer in the model instead.\n",
            "  super().__init__(activity_regularizer=activity_regularizer, **kwargs)\n"
          ]
        },
        {
          "output_type": "stream",
          "name": "stdout",
          "text": [
            "Epoch 1/10\n",
            "\u001b[1m161831/161831\u001b[0m \u001b[32m━━━━━━━━━━━━━━━━━━━━\u001b[0m\u001b[37m\u001b[0m \u001b[1m338s\u001b[0m 2ms/step - loss: 449938506186227712.0000 - mae: 1035388.5625 - val_loss: 791426498560.0000 - val_mae: 154508.7969\n",
            "Epoch 2/10\n",
            "\u001b[1m161831/161831\u001b[0m \u001b[32m━━━━━━━━━━━━━━━━━━━━\u001b[0m\u001b[37m\u001b[0m \u001b[1m432s\u001b[0m 2ms/step - loss: 126350713713328128.0000 - mae: 417311.4062 - val_loss: 788045824000.0000 - val_mae: 159789.4844\n",
            "Epoch 3/10\n",
            "\u001b[1m161831/161831\u001b[0m \u001b[32m━━━━━━━━━━━━━━━━━━━━\u001b[0m\u001b[37m\u001b[0m \u001b[1m413s\u001b[0m 2ms/step - loss: 157582899846053888.0000 - mae: 464537.3750 - val_loss: 787675152384.0000 - val_mae: 161315.1562\n",
            "Epoch 4/10\n",
            "\u001b[1m161831/161831\u001b[0m \u001b[32m━━━━━━━━━━━━━━━━━━━━\u001b[0m\u001b[37m\u001b[0m \u001b[1m372s\u001b[0m 2ms/step - loss: 101738798760591360.0000 - mae: 453530.0625 - val_loss: 787596378112.0000 - val_mae: 158323.0781\n",
            "Epoch 5/10\n",
            "\u001b[1m161831/161831\u001b[0m \u001b[32m━━━━━━━━━━━━━━━━━━━━\u001b[0m\u001b[37m\u001b[0m \u001b[1m395s\u001b[0m 2ms/step - loss: 165493250352742400.0000 - mae: 500863.5938 - val_loss: 787657129984.0000 - val_mae: 175332.1719\n",
            "Epoch 6/10\n",
            "\u001b[1m161831/161831\u001b[0m \u001b[32m━━━━━━━━━━━━━━━━━━━━\u001b[0m\u001b[37m\u001b[0m \u001b[1m377s\u001b[0m 2ms/step - loss: 342827347583434752.0000 - mae: 876589.9375 - val_loss: 787386400768.0000 - val_mae: 162671.3125\n",
            "Epoch 7/10\n",
            "\u001b[1m161831/161831\u001b[0m \u001b[32m━━━━━━━━━━━━━━━━━━━━\u001b[0m\u001b[37m\u001b[0m \u001b[1m405s\u001b[0m 2ms/step - loss: 218663279029911552.0000 - mae: 649839.2500 - val_loss: 787325976576.0000 - val_mae: 160370.5938\n",
            "Epoch 8/10\n",
            "\u001b[1m161831/161831\u001b[0m \u001b[32m━━━━━━━━━━━━━━━━━━━━\u001b[0m\u001b[37m\u001b[0m \u001b[1m395s\u001b[0m 2ms/step - loss: 173346649593085952.0000 - mae: 503679.7812 - val_loss: 787592839168.0000 - val_mae: 160543.5156\n",
            "Epoch 9/10\n",
            "\u001b[1m161831/161831\u001b[0m \u001b[32m━━━━━━━━━━━━━━━━━━━━\u001b[0m\u001b[37m\u001b[0m \u001b[1m478s\u001b[0m 3ms/step - loss: 98535259963916288.0000 - mae: 361693.4062 - val_loss: 787623116800.0000 - val_mae: 169683.7656\n",
            "Epoch 10/10\n",
            "\u001b[1m161831/161831\u001b[0m \u001b[32m━━━━━━━━━━━━━━━━━━━━\u001b[0m\u001b[37m\u001b[0m \u001b[1m420s\u001b[0m 3ms/step - loss: 44787407861579776.0000 - mae: 297278.7500 - val_loss: 787472449536.0000 - val_mae: 170484.8906\n"
          ]
        }
      ]
    },
    {
      "cell_type": "code",
      "source": [
        "# Evaluate the model\n",
        "loss, mae = model.evaluate(X_test, y_test)\n",
        "print(f'Mean Absolute Error: {mae}')\n"
      ],
      "metadata": {
        "colab": {
          "base_uri": "https://localhost:8080/"
        },
        "id": "zS-7bR-tW_h_",
        "outputId": "d3ce8cd0-7e3a-4dc3-a0f2-e526d073395c"
      },
      "execution_count": 18,
      "outputs": [
        {
          "output_type": "stream",
          "name": "stdout",
          "text": [
            "\u001b[1m40458/40458\u001b[0m \u001b[32m━━━━━━━━━━━━━━━━━━━━\u001b[0m\u001b[37m\u001b[0m \u001b[1m54s\u001b[0m 1ms/step - loss: 794500726784.0000 - mae: 171014.6875\n",
            "Mean Absolute Error: 170484.890625\n"
          ]
        }
      ]
    },
    {
      "cell_type": "markdown",
      "source": [
        "\n",
        "**Model Accuracy Calculation**\n",
        "\n",
        "**Given:**\n",
        "- **Mean Absolute Error (MAE):** 170,484.89\n",
        "- **Average Target Value:** 356,010.41\n",
        "\n",
        "**Steps to Calculate Accuracy:**\n",
        "\n",
        "![Screenshot 2024-11-13 012347.png](data:image/png;base64,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)\n",
        "**Result:**\n",
        "- **Model Accuracy:** ≈ 52.1%\n",
        "\n",
        "**Interpretation:**\n",
        "An accuracy of approximately **52.1%** indicates that, on average, the model's predictions are within **52.1%** of the actual target values.\n"
      ],
      "metadata": {
        "id": "yVY6mgEv7ONS"
      }
    }
  ]
}