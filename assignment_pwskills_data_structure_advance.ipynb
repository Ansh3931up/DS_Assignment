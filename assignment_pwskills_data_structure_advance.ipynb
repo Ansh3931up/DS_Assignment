{
  "nbformat": 4,
  "nbformat_minor": 0,
  "metadata": {
    "colab": {
      "provenance": [],
      "authorship_tag": "ABX9TyN19/UTJuIOIpfBnCC59nTe",
      "include_colab_link": true
    },
    "kernelspec": {
      "name": "python3",
      "display_name": "Python 3"
    },
    "language_info": {
      "name": "python"
    }
  },
  "cells": [
    {
      "cell_type": "markdown",
      "metadata": {
        "id": "view-in-github",
        "colab_type": "text"
      },
      "source": [
        "<a href=\"https://colab.research.google.com/github/Ansh3931up/DS_Assignment/blob/main/assignment_pwskills_data_structure_advance.ipynb\" target=\"_parent\"><img src=\"https://colab.research.google.com/assets/colab-badge.svg\" alt=\"Open In Colab\"/></a>"
      ]
    },
    {
      "cell_type": "markdown",
      "source": [
        "Q1. Write a code to reverse a string."
      ],
      "metadata": {
        "id": "FUShOGfU8TTX"
      }
    },
    {
      "cell_type": "code",
      "source": [
        "string=\"ANshkumar\"\n",
        "print(string[::-1])\n"
      ],
      "metadata": {
        "colab": {
          "base_uri": "https://localhost:8080/"
        },
        "id": "rzse53rZ-fia",
        "outputId": "5f56b7e7-e960-45a8-f023-17b6d94de8d0"
      },
      "execution_count": null,
      "outputs": [
        {
          "output_type": "stream",
          "name": "stdout",
          "text": [
            "ramukhsNA\n"
          ]
        }
      ]
    },
    {
      "cell_type": "markdown",
      "source": [
        "\n",
        "Q2. Write a code to count the number of vowels in a string."
      ],
      "metadata": {
        "id": "SRANBROD9KVy"
      }
    },
    {
      "cell_type": "code",
      "source": [
        "from types import coroutine\n",
        "vowels='aeiouAEIOU'\n",
        "string=\"ANshKumar\"\n",
        "count=0\n",
        "for s in string:\n",
        "  if s in vowels:\n",
        "    count+=1\n",
        "\n",
        "print(count)\n",
        "\n"
      ],
      "metadata": {
        "colab": {
          "base_uri": "https://localhost:8080/"
        },
        "id": "XRLoSRqkAMbH",
        "outputId": "ea74718b-4274-4881-90a5-eed55f7ea07a"
      },
      "execution_count": null,
      "outputs": [
        {
          "output_type": "stream",
          "name": "stdout",
          "text": [
            "3\n"
          ]
        }
      ]
    },
    {
      "cell_type": "markdown",
      "source": [
        "\n",
        "Q3. Write a code to check if a given string is a palindrome or not."
      ],
      "metadata": {
        "id": "bbC8RiQX9NJs"
      }
    },
    {
      "cell_type": "code",
      "source": [
        "#for palindrome it string should be same when read from front to back and from back to front\n",
        "string1='ANshHsNa'\n",
        "string2='anshhsna'\n",
        "\n",
        "if(string1==string1[::-1]):\n",
        "  print('string1 is palindrome')\n",
        "else:\n",
        "  print('string1 is not a palindrome')\n",
        "\n",
        "if(string2==string2[::-1]):\n",
        "  print('string2 is palindrome')\n",
        "else:\n",
        "  print('string2 is not a palindrome')"
      ],
      "metadata": {
        "colab": {
          "base_uri": "https://localhost:8080/"
        },
        "id": "mrbtqGu8A-hZ",
        "outputId": "64dd0db4-9d09-47a9-ff07-1fbc581f6dbf"
      },
      "execution_count": null,
      "outputs": [
        {
          "output_type": "stream",
          "name": "stdout",
          "text": [
            "string1 is not a palindrome\n",
            "string2 is palindrome\n"
          ]
        }
      ]
    },
    {
      "cell_type": "markdown",
      "source": [
        "\n",
        "Q4. Write a code to check if two given strings are anagrams of each other."
      ],
      "metadata": {
        "id": "94StKocW9RQN"
      }
    },
    {
      "cell_type": "code",
      "source": [
        "string1 = \"listen\"\n",
        "string2 = \"silent\"\n",
        "if(sorted(string1)==sorted(string2)):\n",
        "  print(\"string1 and string2 both are anagrams\")\n",
        "else:\n",
        "  print('string1 and string2 are not anagrams')"
      ],
      "metadata": {
        "colab": {
          "base_uri": "https://localhost:8080/"
        },
        "id": "IDErVX-rCS4E",
        "outputId": "6c2890f3-f20d-4124-9cd6-4d628244d461"
      },
      "execution_count": null,
      "outputs": [
        {
          "output_type": "stream",
          "name": "stdout",
          "text": [
            "string1 and string2 both are anagrams\n"
          ]
        }
      ]
    },
    {
      "cell_type": "markdown",
      "source": [
        "\n",
        "Q5. Write a code to find all occurrences of a given substring within another string."
      ],
      "metadata": {
        "id": "wBQiwPaJ9UJI"
      }
    },
    {
      "cell_type": "code",
      "source": [
        "def find_all_occurrences(s, sub):\n",
        "    return [i for i in range(len(s)) if s.startswith(sub, i)]\n",
        "\n",
        "string = \"hello hello\"\n",
        "substring = \"lo\"\n",
        "print(find_all_occurrences(string, substring))\n"
      ],
      "metadata": {
        "colab": {
          "base_uri": "https://localhost:8080/"
        },
        "id": "O5fVoKbXCuJD",
        "outputId": "32c15dcb-bfa2-49d6-ddfd-f5fdd52eafe3"
      },
      "execution_count": null,
      "outputs": [
        {
          "output_type": "stream",
          "name": "stdout",
          "text": [
            "[3, 9]\n"
          ]
        }
      ]
    },
    {
      "cell_type": "markdown",
      "source": [
        "\n",
        "Q6. Write a code to perform basic string compression using the counts of repeated characters."
      ],
      "metadata": {
        "id": "lxEuI12f9W9m"
      }
    },
    {
      "cell_type": "code",
      "source": [
        "def compressed(s):\n",
        "  compressed=[]\n",
        "  count=1\n",
        "  for i in range(1,len(s)):\n",
        "    if (s[i]==s[i-1]):\n",
        "      count+=1\n",
        "    else:\n",
        "      compressed.append(s[i-1]+str(count))\n",
        "      count=1\n",
        "  compressed.append(s[-1] + str(count))\n",
        "  return ''.join(compressed)\n",
        "\n",
        "string='aaabbbbbcccddeffghldkkkk'\n",
        "print(compressed(string))\n",
        "\n",
        "\n"
      ],
      "metadata": {
        "colab": {
          "base_uri": "https://localhost:8080/"
        },
        "id": "84sZ8YYhF6uk",
        "outputId": "8a90ac10-ecfe-4072-eecc-08f0cc10c554"
      },
      "execution_count": null,
      "outputs": [
        {
          "output_type": "stream",
          "name": "stdout",
          "text": [
            "a3b5c3d2e1f2g1h1l1d1k4\n"
          ]
        }
      ]
    },
    {
      "cell_type": "markdown",
      "source": [
        "\n",
        "Q7. Write a code to determine if a string has all unique characters."
      ],
      "metadata": {
        "id": "Aga0AVEu9Z_h"
      }
    },
    {
      "cell_type": "code",
      "source": [
        "string4=\"abcdefghijklmnopqurst\"\n",
        "if(len(string4)==len(set(string4))):\n",
        "  print(\"Yes it's unique\")\n",
        "else:\n",
        "  print(\"not unique\")"
      ],
      "metadata": {
        "colab": {
          "base_uri": "https://localhost:8080/"
        },
        "id": "uvwkvTb9HuIS",
        "outputId": "06b44ff6-9e83-410c-b259-045f4cd1bd46"
      },
      "execution_count": null,
      "outputs": [
        {
          "output_type": "stream",
          "name": "stdout",
          "text": [
            "Yes it's unique\n"
          ]
        }
      ]
    },
    {
      "cell_type": "markdown",
      "source": [
        "\n",
        "Q8. Write a code to convert a given string to uppercase or lowercase."
      ],
      "metadata": {
        "id": "cdlc78l99cn2"
      }
    },
    {
      "cell_type": "code",
      "source": [
        "string1=\"anshkuamr\"\n",
        "print(string1.upper())\n",
        "print(string1.lower())\n",
        "\n"
      ],
      "metadata": {
        "colab": {
          "base_uri": "https://localhost:8080/"
        },
        "id": "e6q2P-XUCw55",
        "outputId": "e3c05445-a5b5-4ef9-cf95-52f188007711"
      },
      "execution_count": null,
      "outputs": [
        {
          "output_type": "stream",
          "name": "stdout",
          "text": [
            "ANSHKUAMR\n",
            "anshkuamr\n"
          ]
        }
      ]
    },
    {
      "cell_type": "markdown",
      "source": [
        "\n",
        "Q9. Write a code to count the number of words in a string."
      ],
      "metadata": {
        "id": "2qtd0Gsj9fUP"
      }
    },
    {
      "cell_type": "code",
      "source": [
        "string10=\" Hello guys how are you all majadar time hai na \"\n",
        "count=1\n",
        "string10=string10.strip()\n",
        "for i in string10:\n",
        "  if i==\" \":\n",
        "    count+=1\n",
        "print(count)"
      ],
      "metadata": {
        "colab": {
          "base_uri": "https://localhost:8080/"
        },
        "id": "2V3HKC67D2h8",
        "outputId": "15fe5f6b-da9c-4465-b071-74bc76bd7a59"
      },
      "execution_count": null,
      "outputs": [
        {
          "output_type": "stream",
          "name": "stdout",
          "text": [
            "10\n"
          ]
        }
      ]
    },
    {
      "cell_type": "markdown",
      "source": [
        "\n",
        "Q10. Write a code to concatenate two strings without using the `+` operator."
      ],
      "metadata": {
        "id": "JvTNTMS79hvs"
      }
    },
    {
      "cell_type": "code",
      "source": [
        "def concat(str1,str2):\n",
        "  return \"{}{}\".format(str1,str2)\n",
        "\n",
        "s1=\"heelo\"\n",
        "s2=\" ji\"\n",
        "concat(s1,s2)"
      ],
      "metadata": {
        "colab": {
          "base_uri": "https://localhost:8080/",
          "height": 36
        },
        "id": "9jEzZ-qPLTkL",
        "outputId": "81494f3a-8796-4bc6-b26d-da3227a35ec2"
      },
      "execution_count": null,
      "outputs": [
        {
          "output_type": "execute_result",
          "data": {
            "text/plain": [
              "'heelo ji'"
            ],
            "application/vnd.google.colaboratory.intrinsic+json": {
              "type": "string"
            }
          },
          "metadata": {},
          "execution_count": 110
        }
      ]
    },
    {
      "cell_type": "markdown",
      "source": [
        "\n",
        "Q11. Write a code to remove all occurrences of a specific element from a list."
      ],
      "metadata": {
        "id": "DB1jIob89kR7"
      }
    },
    {
      "cell_type": "code",
      "source": [
        "def remove_all(ls,s):\n",
        "  return[x for x in ls if x!=s ]\n",
        "\n",
        "s1=[1,2,3,4,5,5,2,6]\n",
        "s=2\n",
        "remove_all(s1,s)"
      ],
      "metadata": {
        "colab": {
          "base_uri": "https://localhost:8080/"
        },
        "id": "fbGTVJzkLkkb",
        "outputId": "52603aba-87a9-43aa-97e0-f92f9c475d40"
      },
      "execution_count": null,
      "outputs": [
        {
          "output_type": "execute_result",
          "data": {
            "text/plain": [
              "[1, 3, 4, 5, 5, 6]"
            ]
          },
          "metadata": {},
          "execution_count": 111
        }
      ]
    },
    {
      "cell_type": "markdown",
      "source": [
        "\n",
        "Q12. Implement a code to find the second largest number in a given list of integers."
      ],
      "metadata": {
        "id": "bezmTnSV9m3U"
      }
    },
    {
      "cell_type": "code",
      "source": [
        "def second_largest(ls):\n",
        "  st=set(ls)\n",
        "  st=sorted(st,reverse=True)\n",
        "  return st[1]\n",
        "\n",
        "l2=[1,23,4,5,66,7,73,23,4,21,3,41,12,213,42]\n",
        "second_largest(l2)"
      ],
      "metadata": {
        "colab": {
          "base_uri": "https://localhost:8080/"
        },
        "id": "XZ6jqTL-MOI2",
        "outputId": "f2cf5610-29a6-4ab1-d230-737f3cdacd91"
      },
      "execution_count": null,
      "outputs": [
        {
          "output_type": "execute_result",
          "data": {
            "text/plain": [
              "73"
            ]
          },
          "metadata": {},
          "execution_count": 112
        }
      ]
    },
    {
      "cell_type": "markdown",
      "source": [
        "\n",
        "Q13. Create a code to count the occurrences of each element in a list and return a dictionary with elements as keys and their counts as values."
      ],
      "metadata": {
        "id": "isQ-5Lrb9pR_"
      }
    },
    {
      "cell_type": "code",
      "source": [
        "def occur(ls):\n",
        "  ls=sorted(ls)\n",
        "  dict={}\n",
        "  count=1\n",
        "  for i in range(1,len(ls)):\n",
        "    if(ls[i]==ls[i-1]):\n",
        "      count+=1\n",
        "    else:\n",
        "      dict[f\"{ls[i-1]}\"]=count\n",
        "      count=1\n",
        "  dict[f\"{ls[-1]}\"]=count\n",
        "  return dict\n",
        "\n",
        "l1=[1,2,3,4,4,5,2,4,3,1,4,2,5,6,7,8]\n",
        "print(occur(l1))\n",
        "\n"
      ],
      "metadata": {
        "colab": {
          "base_uri": "https://localhost:8080/"
        },
        "id": "cZwuPpUYNhR4",
        "outputId": "1da62835-4948-4dfa-ea67-eb5b7fec2afc"
      },
      "execution_count": null,
      "outputs": [
        {
          "output_type": "stream",
          "name": "stdout",
          "text": [
            "{'1': 2, '2': 3, '3': 2, '4': 4, '5': 2, '6': 1, '7': 1, '8': 1}\n"
          ]
        }
      ]
    },
    {
      "cell_type": "markdown",
      "source": [
        "\n",
        "Q14. Write a code to reverse a list in-place without using any built-in reverse functions."
      ],
      "metadata": {
        "id": "HXp9hJTL9r8T"
      }
    },
    {
      "cell_type": "markdown",
      "source": [
        "\n",
        "Q15. Implement a code to find and remove duplicates from a list while preserving the original order of elements."
      ],
      "metadata": {
        "id": "xHvQ5Pd09uxV"
      }
    },
    {
      "cell_type": "markdown",
      "source": [
        "\n",
        "Q16. Create a code to check if a given list is sorted (either in ascending or descending order) or not."
      ],
      "metadata": {
        "id": "aFMX3PI_9xfQ"
      }
    },
    {
      "cell_type": "markdown",
      "source": [
        "\n",
        "Q17. Write a code to merge two sorted lists into a single sorted list."
      ],
      "metadata": {
        "id": "OlSGp0w29z8R"
      }
    },
    {
      "cell_type": "markdown",
      "source": [
        "\n",
        "Q18. Implement a code to find the intersection of two given lists."
      ],
      "metadata": {
        "id": "YuVnFZEU92J9"
      }
    },
    {
      "cell_type": "code",
      "source": [
        "def intersection(l1,l2):\n",
        "  s1=set(l1)\n",
        "  s2=set(l2)\n",
        "  return (s1 & s2)\n",
        "\n",
        "li1=[1,2,3,4,5,6,7]\n",
        "li2=[2,4,6,8,10,12]\n",
        "print(intersection(li1,li2))"
      ],
      "metadata": {
        "colab": {
          "base_uri": "https://localhost:8080/"
        },
        "id": "qpDC66VdQmbD",
        "outputId": "9fe9bc7a-155b-4efe-8bdf-018bee0d06fa"
      },
      "execution_count": null,
      "outputs": [
        {
          "output_type": "stream",
          "name": "stdout",
          "text": [
            "{2, 4, 6}\n"
          ]
        }
      ]
    },
    {
      "cell_type": "markdown",
      "source": [
        "\n",
        "Q19. Create a code to find the union of two lists without duplicates."
      ],
      "metadata": {
        "id": "IH85OW5A94mN"
      }
    },
    {
      "cell_type": "markdown",
      "source": [
        "\n",
        "Q20. Write a code to shuffle a given list randomly without using any built-in shuffle functions."
      ],
      "metadata": {
        "id": "bWfWJYrs9606"
      }
    },
    {
      "cell_type": "markdown",
      "source": [
        "\n",
        "Q21. Write a code that takes two tuples as input and returns a new tuple containing elements common to both input tuples."
      ],
      "metadata": {
        "id": "6MET5mt_99Gg"
      }
    },
    {
      "cell_type": "code",
      "source": [
        "def comm_tuple(tup1,tup2):\n",
        "  return tuple(set(tup1) & set(tup2))\n",
        "\n",
        "t1=(1,2,3)\n",
        "t2=(2,3,4)\n",
        "comm_tuple(t1,t2)"
      ],
      "metadata": {
        "colab": {
          "base_uri": "https://localhost:8080/"
        },
        "id": "AgNmSiFDQHNp",
        "outputId": "9130bbe7-9bf0-45f8-8382-4ce1fcb31bca"
      },
      "execution_count": null,
      "outputs": [
        {
          "output_type": "execute_result",
          "data": {
            "text/plain": [
              "(2, 3)"
            ]
          },
          "metadata": {},
          "execution_count": 115
        }
      ]
    },
    {
      "cell_type": "markdown",
      "source": [
        "\n",
        "Q22. Create a code that prompts the user to enter two sets of integers separated by commas. Then, print the intersection of these two sets."
      ],
      "metadata": {
        "id": "trSM4Tup9_QA"
      }
    },
    {
      "cell_type": "markdown",
      "source": [
        "\n",
        "Q23. Write a code to concatenate two tuples. The function should take two tuples as input and return a new tuple containing elements from both input tuples."
      ],
      "metadata": {
        "id": "8ZM8AKrN-Bgz"
      }
    },
    {
      "cell_type": "code",
      "source": [
        "def concat_tuple(tup1,tup2):\n",
        "  return tup1+tup2\n",
        "\n",
        "t1=(1,2,3)\n",
        "t2=(2,3,4)\n",
        "print(concat_tuple(t1,t2))"
      ],
      "metadata": {
        "colab": {
          "base_uri": "https://localhost:8080/"
        },
        "id": "lVtUGXMgPzPP",
        "outputId": "af2bd565-9b70-40ac-bf7a-b0bd266e0697"
      },
      "execution_count": null,
      "outputs": [
        {
          "output_type": "stream",
          "name": "stdout",
          "text": [
            "(1, 2, 3, 2, 3, 4)\n"
          ]
        }
      ]
    },
    {
      "cell_type": "markdown",
      "source": [
        "Q24. Develop a code that prompts the user to input two sets of strings. Then print the elements that are present in the first set but not in the second set.\n"
      ],
      "metadata": {
        "id": "7VFUfM0L-ESK"
      }
    },
    {
      "cell_type": "markdown",
      "source": [
        "Q25. Create a code that takes a tuple and two integers as input. The function should return a new tuple containing elements from the original tuple within the specified range of indices.\n"
      ],
      "metadata": {
        "id": "GkXKIpLf-Hdh"
      }
    },
    {
      "cell_type": "markdown",
      "source": [
        "Q26. Write a code that prompts the user to input two sets of characters. Then print the union of these two sets.\n"
      ],
      "metadata": {
        "id": "hbbjJXfV-KEd"
      }
    },
    {
      "cell_type": "markdown",
      "source": [
        "Q27. Develop a code that takes a tuple of integers as input. The function should return the maximum and minimum values from the tuple using tuple unpacking."
      ],
      "metadata": {
        "id": "WiKnhXh8-M8T"
      }
    },
    {
      "cell_type": "markdown",
      "source": [
        "\n",
        "Q28. Create a code that defines two sets of integers. Then print the union, intersection, and difference of these two sets."
      ],
      "metadata": {
        "id": "t_r5M1Xb-PLR"
      }
    },
    {
      "cell_type": "markdown",
      "source": [
        "\n",
        "Q29. Write a code that takes a tuple and an element as input. The function should return the count of occurrences of the given element in the tuple."
      ],
      "metadata": {
        "id": "nt8SOH8U-RN-"
      }
    },
    {
      "cell_type": "markdown",
      "source": [
        "\n",
        "Q30. Develop a code that prompts the user to input two sets of strings. Then print the symmetric difference of these two sets."
      ],
      "metadata": {
        "id": "AwlNnrVh-S-x"
      }
    },
    {
      "cell_type": "markdown",
      "source": [
        "\n",
        "Q31. Write a code that takes a list of words as input and returns a dictionary where the keys are unique words and the values are the frequencies of those words in the input list."
      ],
      "metadata": {
        "id": "1pgoWrn_-U_J"
      }
    },
    {
      "cell_type": "markdown",
      "source": [
        "\n",
        "Q32. Write a code that takes two dictionaries as input and merges them into a single dictionary. If there are common keys, the values should be added together."
      ],
      "metadata": {
        "id": "pfts5YJg-Wws"
      }
    },
    {
      "cell_type": "markdown",
      "source": [
        "\n",
        "Q33. Write a code to access a value in a nested dictionary. The function should take the dictionary and a list of keys as input and return the corresponding value. If any of the keys do not exist in the dictionary, the function should return `None`."
      ],
      "metadata": {
        "id": "_6XNWn07-YkD"
      }
    },
    {
      "cell_type": "markdown",
      "source": [
        "\n",
        "Q34. Write a code that takes a dictionary as input and returns a sorted version of it based on the values. You can choose whether to sort in ascending or descending order."
      ],
      "metadata": {
        "id": "7Jv1e6Pz-abV"
      }
    },
    {
      "cell_type": "markdown",
      "source": [
        "\n",
        "Q35. Write a code that inverts a dictionary, swapping keys and values. Ensure that the inverted dictionary correctly handles cases where multiple keys have the same value by storing the keys as a list in the inverted dictionary."
      ],
      "metadata": {
        "id": "VphIskTc-cOL"
      }
    }
  ]
}