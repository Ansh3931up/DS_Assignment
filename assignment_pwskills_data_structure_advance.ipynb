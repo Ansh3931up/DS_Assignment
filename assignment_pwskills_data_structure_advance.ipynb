{
  "nbformat": 4,
  "nbformat_minor": 0,
  "metadata": {
    "colab": {
      "provenance": [],
      "include_colab_link": true
    },
    "kernelspec": {
      "name": "python3",
      "display_name": "Python 3"
    },
    "language_info": {
      "name": "python"
    }
  },
  "cells": [
    {
      "cell_type": "markdown",
      "metadata": {
        "id": "view-in-github",
        "colab_type": "text"
      },
      "source": [
        "<a href=\"https://colab.research.google.com/github/Ansh3931up/DS_Assignment/blob/main/assignment_pwskills_data_structure_advance.ipynb\" target=\"_parent\"><img src=\"https://colab.research.google.com/assets/colab-badge.svg\" alt=\"Open In Colab\"/></a>"
      ]
    },
    {
      "cell_type": "markdown",
      "source": [
        "Q1. Write a code to reverse a string."
      ],
      "metadata": {
        "id": "FUShOGfU8TTX"
      }
    },
    {
      "cell_type": "code",
      "source": [
        "string=\"ANshkumar\"\n",
        "print(string[::-1])\n"
      ],
      "metadata": {
        "colab": {
          "base_uri": "https://localhost:8080/"
        },
        "id": "rzse53rZ-fia",
        "outputId": "dbb8cbbe-7d7c-48a8-8053-5088bd917582"
      },
      "execution_count": null,
      "outputs": [
        {
          "output_type": "stream",
          "name": "stdout",
          "text": [
            "ramukhsNA\n"
          ]
        }
      ]
    },
    {
      "cell_type": "markdown",
      "source": [
        "\n",
        "Q2. Write a code to count the number of vowels in a string."
      ],
      "metadata": {
        "id": "SRANBROD9KVy"
      }
    },
    {
      "cell_type": "code",
      "source": [
        "from types import coroutine\n",
        "vowels='aeiouAEIOU'\n",
        "string=\"ANshKumar\"\n",
        "count=0\n",
        "for s in string:\n",
        "  if s in vowels:\n",
        "    count+=1\n",
        "\n",
        "print(count)\n",
        "\n"
      ],
      "metadata": {
        "colab": {
          "base_uri": "https://localhost:8080/"
        },
        "id": "XRLoSRqkAMbH",
        "outputId": "86e3c51a-8b4a-427f-eb5f-80bbd576bc66"
      },
      "execution_count": null,
      "outputs": [
        {
          "output_type": "stream",
          "name": "stdout",
          "text": [
            "3\n"
          ]
        }
      ]
    },
    {
      "cell_type": "markdown",
      "source": [
        "\n",
        "Q3. Write a code to check if a given string is a palindrome or not."
      ],
      "metadata": {
        "id": "bbC8RiQX9NJs"
      }
    },
    {
      "cell_type": "code",
      "source": [
        "#for palindrome it string should be same when read from front to back and from back to front\n",
        "string1='ANshHsNa'\n",
        "string2='anshhsna'\n",
        "\n",
        "if(string1==string1[::-1]):\n",
        "  print('string1 is palindrome')\n",
        "else:\n",
        "  print('string1 is not a palindrome')\n",
        "\n",
        "if(string2==string2[::-1]):\n",
        "  print('string2 is palindrome')\n",
        "else:\n",
        "  print('string2 is not a palindrome')"
      ],
      "metadata": {
        "colab": {
          "base_uri": "https://localhost:8080/"
        },
        "id": "mrbtqGu8A-hZ",
        "outputId": "f0b61490-f063-44bd-fb76-9352613d2167"
      },
      "execution_count": null,
      "outputs": [
        {
          "output_type": "stream",
          "name": "stdout",
          "text": [
            "string1 is not a palindrome\n",
            "string2 is palindrome\n"
          ]
        }
      ]
    },
    {
      "cell_type": "markdown",
      "source": [
        "\n",
        "Q4. Write a code to check if two given strings are anagrams of each other."
      ],
      "metadata": {
        "id": "94StKocW9RQN"
      }
    },
    {
      "cell_type": "code",
      "source": [
        "string1 = \"listen\"\n",
        "string2 = \"silent\"\n",
        "if(sorted(string1)==sorted(string2)):\n",
        "  print(\"string1 and string2 both are anagrams\")\n",
        "else:\n",
        "  print('string1 and string2 are not anagrams')"
      ],
      "metadata": {
        "colab": {
          "base_uri": "https://localhost:8080/"
        },
        "id": "IDErVX-rCS4E",
        "outputId": "cbc0160e-01a4-43f4-f240-2a1031aca73d"
      },
      "execution_count": null,
      "outputs": [
        {
          "output_type": "stream",
          "name": "stdout",
          "text": [
            "string1 and string2 both are anagrams\n"
          ]
        }
      ]
    },
    {
      "cell_type": "markdown",
      "source": [
        "\n",
        "Q5. Write a code to find all occurrences of a given substring within another string."
      ],
      "metadata": {
        "id": "wBQiwPaJ9UJI"
      }
    },
    {
      "cell_type": "code",
      "source": [
        "def find_all_occurrences(s, sub):\n",
        "    return [i for i in range(len(s)) if s.startswith(sub, i)]\n",
        "\n",
        "string = \"hello hello\"\n",
        "substring = \"lo\"\n",
        "print(find_all_occurrences(string, substring))\n"
      ],
      "metadata": {
        "colab": {
          "base_uri": "https://localhost:8080/"
        },
        "id": "O5fVoKbXCuJD",
        "outputId": "ca05762f-53c9-4a65-f7b5-5e5a567d247a"
      },
      "execution_count": null,
      "outputs": [
        {
          "output_type": "stream",
          "name": "stdout",
          "text": [
            "[3, 9]\n"
          ]
        }
      ]
    },
    {
      "cell_type": "markdown",
      "source": [
        "\n",
        "Q6. Write a code to perform basic string compression using the counts of repeated characters."
      ],
      "metadata": {
        "id": "lxEuI12f9W9m"
      }
    },
    {
      "cell_type": "code",
      "source": [
        "def compressed(s):\n",
        "  compressed=[]\n",
        "  count=1\n",
        "  for i in range(1,len(s)):\n",
        "    if (s[i]==s[i-1]):\n",
        "      count+=1\n",
        "    else:\n",
        "      compressed.append(s[i-1]+str(count))\n",
        "      count=1\n",
        "  compressed.append(s[-1] + str(count))\n",
        "  return ''.join(compressed)\n",
        "\n",
        "string='aaabbbbbcccddeffghldkkkk'\n",
        "print(compressed(string))\n",
        "\n",
        "\n"
      ],
      "metadata": {
        "colab": {
          "base_uri": "https://localhost:8080/"
        },
        "id": "84sZ8YYhF6uk",
        "outputId": "162dbbef-6ab2-4782-f41e-b7a5861ceca7"
      },
      "execution_count": null,
      "outputs": [
        {
          "output_type": "stream",
          "name": "stdout",
          "text": [
            "a3b5c3d2e1f2g1h1l1d1k4\n"
          ]
        }
      ]
    },
    {
      "cell_type": "markdown",
      "source": [
        "\n",
        "Q7. Write a code to determine if a string has all unique characters."
      ],
      "metadata": {
        "id": "Aga0AVEu9Z_h"
      }
    },
    {
      "cell_type": "code",
      "source": [
        "string4=\"abcdefghijklmnopqurst\"\n",
        "if(len(string4)==len(set(string4))):\n",
        "  print(\"Yes it's unique\")\n",
        "else:\n",
        "  print(\"not unique\")"
      ],
      "metadata": {
        "colab": {
          "base_uri": "https://localhost:8080/"
        },
        "id": "uvwkvTb9HuIS",
        "outputId": "d15f1110-3f4b-4467-d905-9216909a37f9"
      },
      "execution_count": null,
      "outputs": [
        {
          "output_type": "stream",
          "name": "stdout",
          "text": [
            "Yes it's unique\n"
          ]
        }
      ]
    },
    {
      "cell_type": "markdown",
      "source": [
        "\n",
        "Q8. Write a code to convert a given string to uppercase or lowercase."
      ],
      "metadata": {
        "id": "cdlc78l99cn2"
      }
    },
    {
      "cell_type": "code",
      "source": [
        "string1=\"anshkuamr\"\n",
        "print(string1.upper())\n",
        "print(string1.lower())\n",
        "\n"
      ],
      "metadata": {
        "colab": {
          "base_uri": "https://localhost:8080/"
        },
        "id": "e6q2P-XUCw55",
        "outputId": "79ae9ff6-cbb8-4d45-f09b-a1c21cb9a0c9"
      },
      "execution_count": null,
      "outputs": [
        {
          "output_type": "stream",
          "name": "stdout",
          "text": [
            "ANSHKUAMR\n",
            "anshkuamr\n"
          ]
        }
      ]
    },
    {
      "cell_type": "markdown",
      "source": [
        "\n",
        "Q9. Write a code to count the number of words in a string."
      ],
      "metadata": {
        "id": "2qtd0Gsj9fUP"
      }
    },
    {
      "cell_type": "code",
      "source": [
        "string10=\" Hello guys how are you all majadar time hai na \"\n",
        "count=1\n",
        "string10=string10.strip()\n",
        "for i in string10:\n",
        "  if i==\" \":\n",
        "    count+=1\n",
        "print(count)"
      ],
      "metadata": {
        "colab": {
          "base_uri": "https://localhost:8080/"
        },
        "id": "2V3HKC67D2h8",
        "outputId": "ff10f46f-aeb9-41c1-afd5-4529d0336caf"
      },
      "execution_count": null,
      "outputs": [
        {
          "output_type": "stream",
          "name": "stdout",
          "text": [
            "10\n"
          ]
        }
      ]
    },
    {
      "cell_type": "markdown",
      "source": [
        "\n",
        "Q10. Write a code to concatenate two strings without using the `+` operator."
      ],
      "metadata": {
        "id": "JvTNTMS79hvs"
      }
    },
    {
      "cell_type": "code",
      "source": [
        "def concat(str1,str2):\n",
        "  return \"{}{}\".format(str1,str2)\n",
        "\n",
        "s1=\"heelo\"\n",
        "s2=\" ji\"\n",
        "concat(s1,s2)"
      ],
      "metadata": {
        "colab": {
          "base_uri": "https://localhost:8080/",
          "height": 36
        },
        "id": "9jEzZ-qPLTkL",
        "outputId": "3da8c766-1482-4524-99f3-d00c9ed0e6aa"
      },
      "execution_count": null,
      "outputs": [
        {
          "output_type": "execute_result",
          "data": {
            "text/plain": [
              "'heelo ji'"
            ],
            "application/vnd.google.colaboratory.intrinsic+json": {
              "type": "string"
            }
          },
          "metadata": {},
          "execution_count": 10
        }
      ]
    },
    {
      "cell_type": "markdown",
      "source": [
        "\n",
        "Q11. Write a code to remove all occurrences of a specific element from a list."
      ],
      "metadata": {
        "id": "DB1jIob89kR7"
      }
    },
    {
      "cell_type": "code",
      "source": [
        "def remove_all(ls,s):\n",
        "  return[x for x in ls if x!=s ]\n",
        "\n",
        "s1=[1,2,3,4,5,5,2,6]\n",
        "s=2\n",
        "remove_all(s1,s)"
      ],
      "metadata": {
        "colab": {
          "base_uri": "https://localhost:8080/"
        },
        "id": "fbGTVJzkLkkb",
        "outputId": "ef5d5b52-432b-4778-c4b4-ecf759457428"
      },
      "execution_count": null,
      "outputs": [
        {
          "output_type": "execute_result",
          "data": {
            "text/plain": [
              "[1, 3, 4, 5, 5, 6]"
            ]
          },
          "metadata": {},
          "execution_count": 11
        }
      ]
    },
    {
      "cell_type": "markdown",
      "source": [
        "\n",
        "Q12. Implement a code to find the second largest number in a given list of integers."
      ],
      "metadata": {
        "id": "bezmTnSV9m3U"
      }
    },
    {
      "cell_type": "code",
      "source": [
        "def second_largest(ls):\n",
        "  st=set(ls)\n",
        "  st=sorted(st,reverse=True)\n",
        "  return st[1]\n",
        "\n",
        "l2=[1,23,4,5,66,7,73,23,4,21,3,41,12,213,42]\n",
        "second_largest(l2)"
      ],
      "metadata": {
        "colab": {
          "base_uri": "https://localhost:8080/"
        },
        "id": "XZ6jqTL-MOI2",
        "outputId": "f4157430-0ee4-4597-b1f5-f5a81fce3dd6"
      },
      "execution_count": null,
      "outputs": [
        {
          "output_type": "execute_result",
          "data": {
            "text/plain": [
              "73"
            ]
          },
          "metadata": {},
          "execution_count": 12
        }
      ]
    },
    {
      "cell_type": "markdown",
      "source": [
        "\n",
        "Q13. Create a code to count the occurrences of each element in a list and return a dictionary with elements as keys and their counts as values."
      ],
      "metadata": {
        "id": "isQ-5Lrb9pR_"
      }
    },
    {
      "cell_type": "code",
      "source": [
        "def occur(ls):\n",
        "  ls=sorted(ls)\n",
        "  dict={}\n",
        "  count=1\n",
        "  for i in range(1,len(ls)):\n",
        "    if(ls[i]==ls[i-1]):\n",
        "      count+=1\n",
        "    else:\n",
        "      dict[f\"{ls[i-1]}\"]=count\n",
        "      count=1\n",
        "  dict[f\"{ls[-1]}\"]=count\n",
        "  return dict\n",
        "\n",
        "l1=[1,2,3,4,4,5,2,4,3,1,4,2,5,6,7,8]\n",
        "print(occur(l1))\n",
        "\n"
      ],
      "metadata": {
        "colab": {
          "base_uri": "https://localhost:8080/"
        },
        "id": "cZwuPpUYNhR4",
        "outputId": "cef05088-6ccb-48f4-9e85-84cb13e31d7f"
      },
      "execution_count": null,
      "outputs": [
        {
          "output_type": "stream",
          "name": "stdout",
          "text": [
            "{'1': 2, '2': 3, '3': 2, '4': 4, '5': 2, '6': 1, '7': 1, '8': 1}\n"
          ]
        }
      ]
    },
    {
      "cell_type": "markdown",
      "source": [
        "\n",
        "Q14. Write a code to reverse a list in-place without using any built-in reverse functions."
      ],
      "metadata": {
        "id": "HXp9hJTL9r8T"
      }
    },
    {
      "cell_type": "code",
      "source": [
        "def reverse_ls(ls):\n",
        "  for i in range((len(ls)//2)):\n",
        "    ls[i],ls[-i-1]=ls[-i-1],ls[i]\n",
        "  return ls\n",
        "\n",
        "l1=[1,2,45,6,6,5,3]\n",
        "print(reverse_ls(l1))"
      ],
      "metadata": {
        "id": "0GQozxg5ZzKM",
        "outputId": "8486e720-6955-4d98-f7fc-ce65fed893cd",
        "colab": {
          "base_uri": "https://localhost:8080/"
        }
      },
      "execution_count": null,
      "outputs": [
        {
          "output_type": "stream",
          "name": "stdout",
          "text": [
            "[3, 5, 6, 6, 45, 2, 1]\n"
          ]
        }
      ]
    },
    {
      "cell_type": "markdown",
      "source": [
        "\n",
        "Q15. Implement a code to find and remove duplicates from a list while preserving the original order of elements."
      ],
      "metadata": {
        "id": "xHvQ5Pd09uxV"
      }
    },
    {
      "cell_type": "code",
      "source": [
        "def remove_duplicates(lst):\n",
        "    seen = set()\n",
        "    return [x for x in lst if not (x in seen or seen.add(x))]\n",
        "\n",
        "lst = [1, 2, 2, 3, 3, 3, 4]\n",
        "print(remove_duplicates(lst))\n"
      ],
      "metadata": {
        "id": "uLPTGWU1ahIB",
        "outputId": "c4b68a57-176a-423f-f115-f4f8e2dc7062",
        "colab": {
          "base_uri": "https://localhost:8080/"
        }
      },
      "execution_count": null,
      "outputs": [
        {
          "output_type": "stream",
          "name": "stdout",
          "text": [
            "[1, 2, 3, 4]\n"
          ]
        }
      ]
    },
    {
      "cell_type": "markdown",
      "source": [
        "\n",
        "Q16. Create a code to check if a given list is sorted (either in ascending or descending order) or not."
      ],
      "metadata": {
        "id": "aFMX3PI_9xfQ"
      }
    },
    {
      "cell_type": "code",
      "source": [
        "def check_sort_ls(l1):\n",
        "  if (l1==sorted(l1) or l1==sorted(l1,reverse=True)):\n",
        "    print(\"sorted \")\n",
        "  else:\n",
        "    print(\"not sorted\")\n",
        "\n",
        "l1=[6,4,2]\n",
        "check_sort_ls(l1)"
      ],
      "metadata": {
        "id": "Zt7oddPUYniZ",
        "outputId": "4297f150-249a-47ec-c563-b6b708409c22",
        "colab": {
          "base_uri": "https://localhost:8080/"
        }
      },
      "execution_count": null,
      "outputs": [
        {
          "output_type": "stream",
          "name": "stdout",
          "text": [
            "sorted \n"
          ]
        }
      ]
    },
    {
      "cell_type": "markdown",
      "source": [
        "\n",
        "Q17. Write a code to merge two sorted lists into a single sorted list."
      ],
      "metadata": {
        "id": "OlSGp0w29z8R"
      }
    },
    {
      "cell_type": "code",
      "source": [
        "def merge_ls(l1,l2):\n",
        "  return sorted(l1+l2)\n",
        "\n",
        "\n",
        "l1=[1,2,3]\n",
        "l2=[2,4,6]\n",
        "print(merge_ls(l1,l2))"
      ],
      "metadata": {
        "id": "TX_0Xm1kYM-9",
        "outputId": "7ffb2fb2-6ce2-4b05-a0e3-8f25ab41288e",
        "colab": {
          "base_uri": "https://localhost:8080/"
        }
      },
      "execution_count": null,
      "outputs": [
        {
          "output_type": "stream",
          "name": "stdout",
          "text": [
            "[1, 2, 2, 3, 4, 6]\n"
          ]
        }
      ]
    },
    {
      "cell_type": "markdown",
      "source": [
        "\n",
        "Q18. Implement a code to find the intersection of two given lists."
      ],
      "metadata": {
        "id": "YuVnFZEU92J9"
      }
    },
    {
      "cell_type": "code",
      "source": [
        "def intersection(l1,l2):\n",
        "  s1=set(l1)\n",
        "  s2=set(l2)\n",
        "  return list(s1 & s2)\n",
        "\n",
        "li1=[1,2,3,4,5,6,7]\n",
        "li2=[2,4,6,8,10,12]\n",
        "print(intersection(li1,li2))"
      ],
      "metadata": {
        "colab": {
          "base_uri": "https://localhost:8080/"
        },
        "id": "qpDC66VdQmbD",
        "outputId": "646ce63a-591b-4f4d-cd6e-438ab96f83a5"
      },
      "execution_count": null,
      "outputs": [
        {
          "output_type": "stream",
          "name": "stdout",
          "text": [
            "[2, 4, 6]\n"
          ]
        }
      ]
    },
    {
      "cell_type": "markdown",
      "source": [
        "\n",
        "Q19. Create a code to find the union of two lists without duplicates."
      ],
      "metadata": {
        "id": "IH85OW5A94mN"
      }
    },
    {
      "cell_type": "code",
      "source": [
        "def ls_union(l1,l2):\n",
        "  return list(set(l1)|set(l2))\n",
        "\n",
        "l1=[1,2,3,4]\n",
        "l2=[2,3,7,8,9]\n",
        "print(ls_union(l1,l2))"
      ],
      "metadata": {
        "id": "tNg-OgOQXsOL",
        "outputId": "1ebfe5f4-7d28-4f50-c41b-3251e3a6837c",
        "colab": {
          "base_uri": "https://localhost:8080/"
        }
      },
      "execution_count": null,
      "outputs": [
        {
          "output_type": "stream",
          "name": "stdout",
          "text": [
            "[1, 2, 3, 4, 7, 8, 9]\n"
          ]
        }
      ]
    },
    {
      "cell_type": "markdown",
      "source": [
        "\n",
        "Q20. Write a code to shuffle a given list randomly without using any built-in shuffle functions."
      ],
      "metadata": {
        "id": "bWfWJYrs9606"
      }
    },
    {
      "cell_type": "code",
      "source": [
        "import random\n",
        "def shuffle_ls(ls):\n",
        "  shuffled=ls[:]\n",
        "  for i in range(len(ls)):\n",
        "    j=random.randint(0,i)\n",
        "    shuffled[i],shuffled[j]=shuffled[j],shuffled[i]\n",
        "  return shuffled\n",
        "l1=[1,2,4,5,2,3,1]\n",
        "print(shuffle_ls(l1))\n",
        "\n"
      ],
      "metadata": {
        "id": "ZKt-oM9MdWqF",
        "outputId": "ba8f2a2a-ca18-4a12-d1b5-fc5acb37bbbf",
        "colab": {
          "base_uri": "https://localhost:8080/"
        }
      },
      "execution_count": null,
      "outputs": [
        {
          "output_type": "stream",
          "name": "stdout",
          "text": [
            "[1, 5, 2, 4, 1, 3, 2]\n"
          ]
        }
      ]
    },
    {
      "cell_type": "markdown",
      "source": [
        "\n",
        "Q21. Write a code that takes two tuples as input and returns a new tuple containing elements common to both input tuples."
      ],
      "metadata": {
        "id": "6MET5mt_99Gg"
      }
    },
    {
      "cell_type": "code",
      "source": [
        "def comm_tuple(tup1,tup2):\n",
        "  return tuple(set(tup1) & set(tup2))\n",
        "\n",
        "t1=(1,2,3)\n",
        "t2=(2,3,4)\n",
        "comm_tuple(t1,t2)"
      ],
      "metadata": {
        "colab": {
          "base_uri": "https://localhost:8080/"
        },
        "id": "AgNmSiFDQHNp",
        "outputId": "3caea6fc-9742-4e34-ebc0-b7f9a91d5e09"
      },
      "execution_count": null,
      "outputs": [
        {
          "output_type": "execute_result",
          "data": {
            "text/plain": [
              "(2, 3)"
            ]
          },
          "metadata": {},
          "execution_count": 15
        }
      ]
    },
    {
      "cell_type": "markdown",
      "source": [
        "\n",
        "Q22. Create a code that prompts the user to enter two sets of integers separated by commas. Then, print the intersection of these two sets."
      ],
      "metadata": {
        "id": "trSM4Tup9_QA"
      }
    },
    {
      "cell_type": "code",
      "source": [
        "def intersection_of_sets():\n",
        "    set1 = set(map(int, input(\"Enter the first set of integers (comma-separated): \").split(\",\")))\n",
        "    set2 = set(map(int, input(\"Enter the second set of integers (comma-separated): \").split(\",\")))\n",
        "    return set1 & set2\n",
        "\n",
        "print(intersection_of_sets())\n"
      ],
      "metadata": {
        "id": "faU2vbwbecTr",
        "outputId": "66bbc880-c500-4373-cd78-f41902750718",
        "colab": {
          "base_uri": "https://localhost:8080/"
        }
      },
      "execution_count": null,
      "outputs": [
        {
          "output_type": "stream",
          "name": "stdout",
          "text": [
            "Enter the first set of integers (comma-separated): 1,2,3\n",
            "Enter the second set of integers (comma-separated): 2,3,4\n",
            "{2, 3}\n"
          ]
        }
      ]
    },
    {
      "cell_type": "markdown",
      "source": [
        "\n",
        "Q23. Write a code to concatenate two tuples. The function should take two tuples as input and return a new tuple containing elements from both input tuples."
      ],
      "metadata": {
        "id": "8ZM8AKrN-Bgz"
      }
    },
    {
      "cell_type": "code",
      "source": [
        "def concat_tuple(tup1,tup2):\n",
        "  return tup1+tup2\n",
        "\n",
        "t1=(1,2,3)\n",
        "t2=(2,3,4)\n",
        "print(concat_tuple(t1,t2))"
      ],
      "metadata": {
        "colab": {
          "base_uri": "https://localhost:8080/"
        },
        "id": "lVtUGXMgPzPP",
        "outputId": "4bc8e540-89b2-4ef7-ce66-bf75b2f37452"
      },
      "execution_count": null,
      "outputs": [
        {
          "output_type": "stream",
          "name": "stdout",
          "text": [
            "(1, 2, 3, 2, 3, 4)\n"
          ]
        }
      ]
    },
    {
      "cell_type": "markdown",
      "source": [
        "Q24. Develop a code that prompts the user to input two sets of strings. Then print the elements that are present in the first set but not in the second set.\n"
      ],
      "metadata": {
        "id": "7VFUfM0L-ESK"
      }
    },
    {
      "cell_type": "code",
      "source": [
        "def present_first():\n",
        "  set1=set(map(int,input(\"Enter the first set of integers (comma-separated): \").split(\",\")))\n",
        "  set2=set(map(int,input(\"Enter the second set of integers (comma-separated): \").split(\",\")))\n",
        "  return set1-set2\n",
        "\n",
        "print(present_first())"
      ],
      "metadata": {
        "id": "WmzxDBUmegHt",
        "outputId": "971de00c-e657-46c9-f2bf-432145333290",
        "colab": {
          "base_uri": "https://localhost:8080/"
        }
      },
      "execution_count": null,
      "outputs": [
        {
          "output_type": "stream",
          "name": "stdout",
          "text": [
            "Enter the first set of integers (comma-separated): 1,2,3\n",
            "Enter the second set of integers (comma-separated): 3,4,5\n",
            "{1, 2}\n"
          ]
        }
      ]
    },
    {
      "cell_type": "markdown",
      "source": [
        "Q25. Create a code that takes a tuple and two integers as input. The function should return a new tuple containing elements from the original tuple within the specified range of indices.\n"
      ],
      "metadata": {
        "id": "GkXKIpLf-Hdh"
      }
    },
    {
      "cell_type": "code",
      "source": [
        "def slice_tuple(tup, start, end):\n",
        "    return tup[start:end]\n",
        "\n",
        "tup = tuple(input(\"Enter elements of the tuple (space separated): \").split())\n",
        "start = int(input(\"Enter the start index: \"))\n",
        "end = int(input(\"Enter the end index: \"))\n",
        "\n",
        "print(\"Sliced tuple:\", slice_tuple(tup, start, end))\n"
      ],
      "metadata": {
        "id": "cN1GrlarGko1",
        "outputId": "bc268700-f410-4b61-a158-14ae6ff2742e",
        "colab": {
          "base_uri": "https://localhost:8080/"
        }
      },
      "execution_count": 1,
      "outputs": [
        {
          "output_type": "stream",
          "name": "stdout",
          "text": [
            "Enter elements of the tuple (space separated): 5 4 6 3 2 1 4 5 6 \n",
            "Enter the start index: 2 \n",
            "Enter the end index: 4\n",
            "Sliced tuple: ('6', '3')\n"
          ]
        }
      ]
    },
    {
      "cell_type": "markdown",
      "source": [
        "Q26. Write a code that prompts the user to input two sets of characters. Then print the union of these two sets.\n"
      ],
      "metadata": {
        "id": "hbbjJXfV-KEd"
      }
    },
    {
      "cell_type": "code",
      "source": [
        "def present_first():\n",
        "  set1=set(map(int,input(\"Enter the first set of integers (comma-separated): \").split(\",\")))\n",
        "  set2=set(map(int,input(\"Enter the second set of integers (comma-separated): \").split(\",\")))\n",
        "  return set1|set2\n",
        "\n",
        "print(present_first())"
      ],
      "metadata": {
        "id": "gcH6GDzyi_Sc",
        "outputId": "b65b7a6e-637f-4b90-c9f0-f3db186c8e27",
        "colab": {
          "base_uri": "https://localhost:8080/"
        }
      },
      "execution_count": null,
      "outputs": [
        {
          "output_type": "stream",
          "name": "stdout",
          "text": [
            "Enter the first set of integers (comma-separated): 1,2,4\n",
            "Enter the second set of integers (comma-separated): 5,8,9\n",
            "{1, 2, 4, 5, 8, 9}\n"
          ]
        }
      ]
    },
    {
      "cell_type": "markdown",
      "source": [
        "Q27. Develop a code that takes a tuple of integers as input. The function should return the maximum and minimum values from the tuple using tuple unpacking."
      ],
      "metadata": {
        "id": "WiKnhXh8-M8T"
      }
    },
    {
      "cell_type": "code",
      "source": [
        "def max_min_tuple(tup):\n",
        "  return max(tup),min(tup)\n",
        "\n",
        "t1=tuple(map(int, input(\"Enter elements of the tuple (space separated): \").split()))\n",
        "maximun,minimun=max_min_tuple(t1);\n",
        "print(\"max :\",maximun,\"min :\",minimun)"
      ],
      "metadata": {
        "id": "1xK87m27He98",
        "outputId": "8f9bd949-9fca-42d1-d896-aa6dccc6ead7",
        "colab": {
          "base_uri": "https://localhost:8080/"
        }
      },
      "execution_count": 3,
      "outputs": [
        {
          "output_type": "stream",
          "name": "stdout",
          "text": [
            "Enter elements of the tuple (space separated): 5 40 2 0 30 46 06 5 2 06 85 2 1 \n",
            "max : 85 min : 0\n"
          ]
        }
      ]
    },
    {
      "cell_type": "markdown",
      "source": [
        "\n",
        "Q28. Create a code that defines two sets of integers. Then print the union, intersection, and difference of these two sets."
      ],
      "metadata": {
        "id": "t_r5M1Xb-PLR"
      }
    },
    {
      "cell_type": "code",
      "source": [
        "\n",
        "set1 = set(map(int, input(\"Enter integers for the first set (space separated): \").split()))\n",
        "set2 = set(map(int, input(\"Enter integers for the second set (space separated): \").split()))\n",
        "\n",
        "print(\"Union:\", set1 | set2)\n",
        "print(\"Intersection:\", set1 & set2)\n",
        "print(\"Difference (set1 - set2):\", set1 - set2)\n"
      ],
      "metadata": {
        "id": "xFl2TsEaIvwz",
        "outputId": "73beaed1-ed05-411c-f070-1cbb0cab6a2e",
        "colab": {
          "base_uri": "https://localhost:8080/"
        }
      },
      "execution_count": 4,
      "outputs": [
        {
          "output_type": "stream",
          "name": "stdout",
          "text": [
            "Enter integers for the first set (space separated): 5 46 8 2 1\n",
            "Enter integers for the second set (space separated): 1 2 39 4\n",
            "Union: {1, 2, 4, 5, 39, 8, 46}\n",
            "Intersection: {1, 2}\n",
            "Difference (set1 - set2): {8, 5, 46}\n"
          ]
        }
      ]
    },
    {
      "cell_type": "markdown",
      "source": [
        "\n",
        "Q29. Write a code that takes a tuple and an element as input. The function should return the count of occurrences of the given element in the tuple."
      ],
      "metadata": {
        "id": "nt8SOH8U-RN-"
      }
    },
    {
      "cell_type": "code",
      "source": [
        "def count_occurrences(tup, element):\n",
        "    return tup.count(element)\n",
        "\n",
        "tup = tuple(input(\"Enter elements of the tuple (space separated): \").split())\n",
        "element = input(\"Enter the element to count: \")\n",
        "\n",
        "\n",
        "print(f\"Occurrences of {element}:\", count_occurrences(tup, element))\n"
      ],
      "metadata": {
        "id": "sYDlrmBQJI7Q",
        "outputId": "223cd31d-1df0-473a-a041-c21de395be29",
        "colab": {
          "base_uri": "https://localhost:8080/"
        }
      },
      "execution_count": 6,
      "outputs": [
        {
          "output_type": "stream",
          "name": "stdout",
          "text": [
            "Enter elements of the tuple (space separated): 5 12 33 33 1 42 6 966 66 66 \n",
            "Enter the element to count: 33\n",
            "Occurrences of 33: 2\n"
          ]
        }
      ]
    },
    {
      "cell_type": "markdown",
      "source": [
        "\n",
        "Q30. Develop a code that prompts the user to input two sets of strings. Then print the symmetric difference of these two sets."
      ],
      "metadata": {
        "id": "AwlNnrVh-S-x"
      }
    },
    {
      "cell_type": "code",
      "source": [
        "s1=set(map(int,input(\"ENter elements of sets (, separated):\").split(\",\")))\n",
        "s2=set(map(int,input(\"ENter elements of sets (, separated):\").split(\",\")))\n",
        "print(\"Symmetric Difference :\",s1^s2)"
      ],
      "metadata": {
        "id": "kDc8pSOQJbfi",
        "outputId": "68a6504b-0dc7-4f51-8de6-ba2f2e85458e",
        "colab": {
          "base_uri": "https://localhost:8080/"
        }
      },
      "execution_count": 7,
      "outputs": [
        {
          "output_type": "stream",
          "name": "stdout",
          "text": [
            "ENter elements of sets (, separated):1,2,3,4,5\n",
            "ENter elements of sets (, separated):3,6,7,8,9\n",
            "Symmetric Difference : {1, 2, 4, 5, 6, 7, 8, 9}\n"
          ]
        }
      ]
    },
    {
      "cell_type": "markdown",
      "source": [
        "\n",
        "Q31. Write a code that takes a list of words as input and returns a dictionary where the keys are unique words and the values are the frequencies of those words in the input list."
      ],
      "metadata": {
        "id": "1pgoWrn_-U_J"
      }
    },
    {
      "cell_type": "code",
      "source": [
        "def word_frequencies(words):\n",
        "    freq_dict = {}\n",
        "    for word in words:\n",
        "        freq_dict[word] = freq_dict.get(word, 0) + 1\n",
        "    return freq_dict\n",
        "\n",
        "\n",
        "words = input(\"Enter words (space separated): \").split()\n",
        "print(\"Word frequencies:\", word_frequencies(words))\n"
      ],
      "metadata": {
        "id": "VqAEd5_uL67B",
        "outputId": "2553c995-848c-4a91-8474-ddde451dabca",
        "colab": {
          "base_uri": "https://localhost:8080/"
        }
      },
      "execution_count": 9,
      "outputs": [
        {
          "output_type": "stream",
          "name": "stdout",
          "text": [
            "Enter words (space separated):  ansh kiamr type and vasnh kuamr type\n",
            "Word frequencies: {'ansh': 1, 'kiamr': 1, 'type': 2, 'and': 1, 'vasnh': 1, 'kuamr': 1}\n"
          ]
        }
      ]
    },
    {
      "cell_type": "markdown",
      "source": [
        "\n",
        "Q32. Write a code that takes two dictionaries as input and merges them into a single dictionary. If there are common keys, the values should be added together."
      ],
      "metadata": {
        "id": "pfts5YJg-Wws"
      }
    },
    {
      "cell_type": "code",
      "source": [
        "def Merge_dict(d1,d2):\n",
        "  dict=d1.copy();\n",
        "  for key,value in d2.items():\n",
        "    dict[key]=dict.get(key, 0)  + value # value1 + value2\n",
        "  return dict\n",
        "\n",
        "\n",
        "\n",
        "d1=eval(input(\"enter first dictionary\"))\n",
        "d2=eval(input(\"enter the second dictionary\"))\n",
        "\n",
        "print(\"Merged Dictationary\",Merge_dict(d1,d2))"
      ],
      "metadata": {
        "id": "xhhPGdV4MWYU",
        "outputId": "cde16746-60b1-40e0-b177-ea240af5744d",
        "colab": {
          "base_uri": "https://localhost:8080/"
        }
      },
      "execution_count": 1,
      "outputs": [
        {
          "output_type": "stream",
          "name": "stdout",
          "text": [
            "enter first dictionary{ \"x\": 100, \"y\": 200 }\n",
            "enter the second dictionary{ \"y\": 50, \"z\": 300 }\n",
            "Merged Dictationary {'x': 100, 'y': 250, 'z': 300}\n"
          ]
        }
      ]
    },
    {
      "cell_type": "markdown",
      "source": [
        "\n",
        "Q33. Write a code to access a value in a nested dictionary. The function should take the dictionary and a list of keys as input and return the corresponding value. If any of the keys do not exist in the dictionary, the function should return `None`."
      ],
      "metadata": {
        "id": "_6XNWn07-YkD"
      }
    },
    {
      "cell_type": "code",
      "source": [
        "def access_nested_value(dictionary, keys):\n",
        "    for key in keys:\n",
        "        if isinstance(dictionary, dict) and key in dictionary:\n",
        "            dictionary = dictionary[key]\n",
        "        else:\n",
        "            return None\n",
        "    return dictionary\n",
        "\n",
        "nested_dict = eval(input(\"Enter a nested dictionary: \"))\n",
        "keys = input(\"Enter keys (space separated): \").split()\n",
        "\n",
        "print(\"Value:\", access_nested_value(nested_dict, keys))\n"
      ],
      "metadata": {
        "id": "w2j6afzdbg1A",
        "outputId": "b21cd86d-72eb-45dd-a8a5-425960710583",
        "colab": {
          "base_uri": "https://localhost:8080/"
        }
      },
      "execution_count": 3,
      "outputs": [
        {
          "output_type": "stream",
          "name": "stdout",
          "text": [
            "Enter a nested dictionary: { \"x\": 100, \"y\": 200 }\n",
            "Enter keys (space separated): x\n",
            "Value: 100\n"
          ]
        }
      ]
    },
    {
      "cell_type": "markdown",
      "source": [
        "\n",
        "Q34. Write a code that takes a dictionary as input and returns a sorted version of it based on the values. You can choose whether to sort in ascending or descending order."
      ],
      "metadata": {
        "id": "7Jv1e6Pz-abV"
      }
    },
    {
      "cell_type": "code",
      "source": [
        "def sort_by_values(d, ascending=True):\n",
        "    return dict(sorted(d.items(), key=lambda item: item[1], reverse=not ascending))\n",
        "\n",
        "\n",
        "d = eval(input(\"Enter the dictionary: \"))\n",
        "order = input(\"Sort ascending? (yes/no): \").lower() == 'yes'\n",
        "\n",
        "\n",
        "print(\"Sorted dictionary:\", sort_by_values(d, ascending=order))\n",
        "\n"
      ],
      "metadata": {
        "id": "rh2LExgnbrHf",
        "outputId": "82f5a2ce-4093-4793-ac97-2f5b4ef68ead",
        "colab": {
          "base_uri": "https://localhost:8080/"
        }
      },
      "execution_count": 8,
      "outputs": [
        {
          "output_type": "stream",
          "name": "stdout",
          "text": [
            "Enter the dictionary: { \"x\": 100, \"y\": 200 }\n",
            "Sort ascending? (yes/no): no\n",
            "Sorted dictionary: {'y': 200, 'x': 100}\n"
          ]
        }
      ]
    },
    {
      "cell_type": "markdown",
      "source": [
        "\n",
        "Q35. Write a code that inverts a dictionary, swapping keys and values. Ensure that the inverted dictionary correctly handles cases where multiple keys have the same value by storing the keys as a list in the inverted dictionary."
      ],
      "metadata": {
        "id": "VphIskTc-cOL"
      }
    },
    {
      "cell_type": "code",
      "source": [
        "def invert_dictionary(d):\n",
        "    inverted = {}\n",
        "    for key, value in d.items():\n",
        "        inverted.setdefault(value, []).append(key)\n",
        "        # inverted[value]=key\n",
        "    return inverted\n",
        "\n",
        "d = eval(input(\"Enter the dictionary: \"))\n",
        "\n",
        "print(\"Inverted dictionary:\", invert_dictionary(d))\n"
      ],
      "metadata": {
        "id": "R7uj3bc5cJw8",
        "outputId": "2026fd8d-f696-41c3-9d02-fbc05b131197",
        "colab": {
          "base_uri": "https://localhost:8080/"
        }
      },
      "execution_count": 6,
      "outputs": [
        {
          "output_type": "stream",
          "name": "stdout",
          "text": [
            "Enter the dictionary: { \"x\": 100, \"y\": 200 ,\"z\":100}\n",
            "Inverted dictionary: {100: ['x', 'z'], 200: ['y']}\n"
          ]
        }
      ]
    }
  ]
}