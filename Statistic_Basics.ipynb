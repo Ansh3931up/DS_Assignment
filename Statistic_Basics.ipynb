{
  "nbformat": 4,
  "nbformat_minor": 0,
  "metadata": {
    "colab": {
      "provenance": [],
      "authorship_tag": "ABX9TyMH4Rt1hchOTdKb1qS2ejXk",
      "include_colab_link": true
    },
    "kernelspec": {
      "name": "python3",
      "display_name": "Python 3"
    },
    "language_info": {
      "name": "python"
    }
  },
  "cells": [
    {
      "cell_type": "markdown",
      "metadata": {
        "id": "view-in-github",
        "colab_type": "text"
      },
      "source": [
        "<a href=\"https://colab.research.google.com/github/Ansh3931up/DS_Assignment/blob/main/Statistic_Basics.ipynb\" target=\"_parent\"><img src=\"https://colab.research.google.com/assets/colab-badge.svg\" alt=\"Open In Colab\"/></a>"
      ]
    },
    {
      "cell_type": "markdown",
      "source": [
        "#STATISTICS\n"
      ],
      "metadata": {
        "id": "Q8bt7c9LuZN1"
      }
    },
    {
      "cell_type": "markdown",
      "source": [
        "Q1. Explain the different types of data (qualitative and quantitative) and provide examples of each. Discuss\n",
        "nominal, ordinal, interval, and ratio scales.\n",
        "\n",
        "A1.Qualitative Data: Non-numerical data that describes qualities or characteristics.Example: Eye color, gender.\n",
        "\n",
        "Nominal Scale: Categories without a specific order (e.g., blood type).\n",
        "\n",
        "Ordinal Scale: Categories with a ranked order (e.g., survey ratings from 'poor' to 'excellent').\n",
        "\n",
        "\n",
        "Quantitative Data: Numerical data representing counts or measurements.Example: Age, height.\n",
        "\n",
        "Interval Scale: Differences between values are meaningful; no true zero (e.g., temperature in Celsius).\n",
        "\n",
        "Ratio Scale: Has a true zero, allowing for a meaningful ratio (e.g., weight, distance)."
      ],
      "metadata": {
        "id": "iN50GUb0q0g4"
      }
    },
    {
      "cell_type": "markdown",
      "source": [
        "Q2. What are the measures of central tendency, and when should you use each? Discuss the mean, median,\n",
        "and mode with examples and situations where each is appropriate.\n",
        "\n",
        "\n",
        "A2. Measures of Central Tendency:\n",
        "\n",
        "Mean: The average of all data points. Used when data is normally distributed.\n",
        "Example: Average income of a group.\n",
        "\n",
        "Median: The middle value of an ordered dataset. Useful with skewed data.\n",
        "Example: Median house prices in an area.\n",
        "\n",
        "Mode: The most frequently occurring value in a dataset. Suitable for categorical data.\n",
        "Example: Most common shoe size sold."
      ],
      "metadata": {
        "id": "K2cNEu1mrevr"
      }
    },
    {
      "cell_type": "markdown",
      "source": [
        "Q3. Explain the concept of dispersion. How do variance and standard deviation measure the spread of data?\n",
        "\n",
        "A3. Concept of Dispersion:\n",
        "\n",
        "Dispersion: Measures the spread of data points.\n",
        "\n",
        "Variance: The average squared deviation from the mean, indicating overall spread.\n",
        "\n",
        "Standard Deviation: The square root of variance, showing spread around the mean in the same units as data.\n"
      ],
      "metadata": {
        "id": "AeEGpGvQrzLi"
      }
    },
    {
      "cell_type": "markdown",
      "source": [
        "Q4. What is a box plot, and what can it tell you about the distribution of data?\n",
        "\n",
        "A4.A box plot visualizes data distribution through quartiles and highlights potential outliers. It shows the median, quartiles, and possible skewness. Outliers are marked outside the \"whiskers.\""
      ],
      "metadata": {
        "id": "6pVbOnaGsF0M"
      }
    },
    {
      "cell_type": "markdown",
      "source": [
        "Q5. Discuss the role of random sampling in making inferences about populations.\n",
        "\n",
        "A5.Random sampling allows unbiased selection of individuals from a population, enabling researchers to make inferences about the entire population based on sample data. It reduces sampling bias and improves the representativeness of results."
      ],
      "metadata": {
        "id": "3FCAsLIMsPvR"
      }
    },
    {
      "cell_type": "markdown",
      "source": [
        "Q6. Explain the concept of skewness and its types. How does skewness affect the interpretation of data?\n",
        "\n",
        "\n",
        "A6.Skewness: Describes data asymmetry.\n",
        "\n",
        "Positive Skew: Tail on the right; mean > median.\n",
        "\n",
        "Negative Skew: Tail on the left; mean < median.\n",
        "\n",
        "Effect: Skewness affects the mean's reliability as a measure of central tendency, making the median more informative for skewed data.\n"
      ],
      "metadata": {
        "id": "6hzxN8VMsbY6"
      }
    },
    {
      "cell_type": "markdown",
      "source": [
        "Q7. What is the interquartile range (IQR), and how is it used to detect outliers?\n",
        "\n",
        "A7.The IQR is the range between the 25th (Q1) and 75th (Q3) percentiles. Outliers are data points falling below\n",
        "\n",
        "Q1−1.5×IQR or above\n",
        "\n",
        "Q3+1.5×IQR."
      ],
      "metadata": {
        "id": "Hp9n-3i7sppf"
      }
    },
    {
      "cell_type": "markdown",
      "source": [
        "Q8. Discuss the conditions under which the binomial distribution is used.\n",
        "\n",
        "A8.A binomial distribution applies when:\n",
        "\n",
        "There are a fixed number of trials.\n",
        "Each trial has two outcomes (success or failure).\n",
        "Trials are independent.\n",
        "The probability of success is the same for each trial."
      ],
      "metadata": {
        "id": "Co0T70v4tGvv"
      }
    },
    {
      "cell_type": "markdown",
      "source": [
        "Q9. Explain the properties of the normal distribution and the empirical rule (68-95-99.7 rule).\n",
        "\n",
        "A9.Normal Distribution: Symmetrical, bell-shaped, with mean = median = mode.\n",
        "Empirical Rule:\n",
        "68% of data within ±1 SD of the mean.\n",
        "95% within ±2 SD.\n",
        "99.7% within ±3 SD.\n"
      ],
      "metadata": {
        "id": "jv7GwlJ_tWZr"
      }
    },
    {
      "cell_type": "markdown",
      "source": [
        "Q10. Provide a real-life example of a Poisson process and calculate the probability for a specific event.\n",
        "\n",
        "A10. Real-Life Example of Poisson Process:\n",
        "\n",
        "Example: Number of customer arrivals at a bank per hour.\n",
        "Probability Calculation: If 5 customers arrive per hour, the probability of exactly 3 arrivals in an hour can be calculated using the Poisson formula:\n",
        "𝑃(𝑋=𝑘)=(𝜆^(𝑘)𝑒^(−𝜆))/𝑘!\n"
      ],
      "metadata": {
        "id": "88x1XL_utixH"
      }
    },
    {
      "cell_type": "markdown",
      "source": [
        "Q11. Explain what a random variable is and differentiate between discrete and continuous random variables.\n",
        "\n",
        "A11.Random Variable: A variable whose possible values result from a random phenomenon.\n",
        "Discrete: Takes countable values (e.g., number of sales).\n",
        "Continuous: Takes any value within a range (e.g., height of individuals)."
      ],
      "metadata": {
        "id": "rMa3PMr-uFVJ"
      }
    },
    {
      "cell_type": "markdown",
      "source": [
        "Q12.Provide an example dataset, calculate both covariance and correlation, and interpret the results.\n",
        "\n",
        "A12.Given two datasets:\n",
        "\n",
        "Dataset A: [1, 2, 3]\n",
        "Dataset B: [2, 4, 6]\n",
        "Covariance and correlation values show how the variables move together. A high positive correlation indicates a strong relationship, while zero means no relationship."
      ],
      "metadata": {
        "id": "cRPf1jdTuLbA"
      }
    },
    {
      "cell_type": "code",
      "source": [],
      "metadata": {
        "id": "vx3_X1kauXyg"
      },
      "execution_count": null,
      "outputs": []
    }
  ]
}