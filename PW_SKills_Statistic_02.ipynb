{
  "nbformat": 4,
  "nbformat_minor": 0,
  "metadata": {
    "colab": {
      "provenance": [],
      "authorship_tag": "ABX9TyOzoT24d3j0ZiL89TlGaGdp",
      "include_colab_link": true
    },
    "kernelspec": {
      "name": "python3",
      "display_name": "Python 3"
    },
    "language_info": {
      "name": "python"
    }
  },
  "cells": [
    {
      "cell_type": "markdown",
      "metadata": {
        "id": "view-in-github",
        "colab_type": "text"
      },
      "source": [
        "<a href=\"https://colab.research.google.com/github/Ansh3931up/DS_Assignment/blob/main/PW_SKills_Statistic_02.ipynb\" target=\"_parent\"><img src=\"https://colab.research.google.com/assets/colab-badge.svg\" alt=\"Open In Colab\"/></a>"
      ]
    },
    {
      "cell_type": "markdown",
      "source": [
        "Q1.Explain the properties of the F-distribution.\n",
        "\n",
        "\n",
        "A1.Properties of the F-distribution:\n",
        "\n",
        "Positivity: Defined for non-negative values (F ≥ 0), as it is a ratio of variances.\n",
        "\n",
        "Asymmetry: Skewed to the right, with skewness depending on degrees of freedom.\n",
        "\n",
        "Degrees of Freedom: Shape depends on\n",
        "𝑑\n",
        "𝑓\n",
        "1\n",
        "df\n",
        "1\n",
        "​\n",
        "  (numerator) and\n",
        "𝑑\n",
        "𝑓\n",
        "2\n",
        "df\n",
        "2\n",
        "​\n",
        "  (denominator).\n",
        "\n",
        "Mode: Near 1 for large\n",
        "𝑑\n",
        "𝑓\n",
        "1\n",
        "df\n",
        "1\n",
        "​\n",
        "  and\n",
        "𝑑\n",
        "𝑓\n",
        "2\n",
        "df\n",
        "2\n",
        "​\n",
        " .\n",
        "\n",
        "Relationship to Other Distributions: Derived from the ratio of two independent\n",
        "chi-squared variables scaled by their degrees of freedom.\n"
      ],
      "metadata": {
        "id": "7IwBnXAw7njk"
      }
    },
    {
      "cell_type": "markdown",
      "source": [
        "\n",
        "Q2. In which types of statistical tests is the F-distribution used, and why is it appropriate for these tests?\n",
        "\n",
        "A2.Statistical Tests Using the F-distribution:\n",
        "The F-distribution is used in:\n",
        "\n",
        "Analysis of Variance (ANOVA): To test whether there are significant differences between group means by comparing between-group and within-group variances.\n",
        "\n",
        "Regression Analysis: To test the overall significance of the regression model.\n",
        "\n",
        "\n",
        "Variance Comparison (F-test): To determine if two populations have equal variances.\n",
        "\n",
        "It is appropriate for these tests because the F-distribution represents the ratio of two variances, aligning with the hypotheses tested in these scenarios.\n"
      ],
      "metadata": {
        "id": "EMpUENU57tiZ"
      }
    },
    {
      "cell_type": "markdown",
      "source": [
        "\n",
        "Q3. What are the key assumptions required for conducting an F-test to compare the variances of two\n",
        "populations?\n",
        "\n",
        "\n",
        "A3. Assumptions for an F-test to Compare Variances:\n",
        "\n",
        "Normality: Both populations should follow a normal distribution.\n",
        "\n",
        "Independence: Samples must be independent of each other.\n",
        "\n",
        "Random Sampling: Data should be collected randomly from the populations.\n",
        "\n",
        "Homogeneity of Variance (optional): The test itself evaluates this assumption."
      ],
      "metadata": {
        "id": "h1t2Yf4c7yVa"
      }
    },
    {
      "cell_type": "markdown",
      "source": [
        "\n",
        "Q4. What is the purpose of ANOVA, and how does it differ from a t-test?\n",
        "\n",
        "A4. Purpose of ANOVA and Its Difference from a t-test:\n",
        "\n",
        "Purpose of ANOVA: To determine whether there are statistically significant differences between the means of three or more groups.\n",
        "\n",
        "Difference from a t-test:\n",
        "Number of Groups: A t-test compares two groups, while ANOVA handles three or more.\n",
        "\n",
        "Multiple Comparisons: ANOVA avoids inflating the Type I error rate that occurs when performing multiple t-tests.\n"
      ],
      "metadata": {
        "id": "I_rmhpZf72DR"
      }
    },
    {
      "cell_type": "markdown",
      "source": [
        "\n",
        "Q5. Explain when and why you would use a one-way ANOVA instead of multiple t-tests when comparing more\n",
        "than two groups.\n",
        "\n",
        "A5. Why Use One-Way ANOVA Instead of Multiple t-Tests:\n",
        "\n",
        "One-way ANOVA is preferred when comparing more than two groups because:\n",
        "\n",
        "Controls Type I Error Rate: Reduces the likelihood of falsely rejecting the null hypothesis by performing a single test instead of multiple t-tests.\n",
        "\n",
        "Efficiency: Simpler and faster to perform one test rather than many.\n",
        "Generalization: Provides an overall test of group differences.\n"
      ],
      "metadata": {
        "id": "M1FqM3jP75JU"
      }
    },
    {
      "cell_type": "markdown",
      "source": [
        "\n",
        "Q6. Explain how variance is partitioned in ANOVA into between-group variance and within-group variance.\n",
        "How does this partitioning contribute to the calculation of the F-statistic?\n",
        "\n",
        "A6. Variance Partitioning in ANOVA:\n",
        "\n",
        "Between-Group Variance: Measures variability due to differences between group means.\n",
        "\n",
        "Within-Group Variance: Measures variability within each group, attributed to random error.\n",
        "\n",
        "Partitioning and F-Statistic:\n",
        "The F-statistic is calculated as:\n",
        "\n",
        "𝐹\n",
        "=\n",
        "Between-Group Variance/\n",
        "Within-Group Variance\n",
        "\n",
        "A larger F-statistic suggests greater differences between group means relative to random variation.\n",
        "\n"
      ],
      "metadata": {
        "id": "1pc5lywy78D9"
      }
    },
    {
      "cell_type": "markdown",
      "source": [
        "\n",
        "Q7. Compare the classical (frequentist) approach to ANOVA with the Bayesian approach. What are the key\n",
        "differences in terms of how they handle uncertainty, parameter estimation, and hypothesis testing?\n",
        "\n",
        "A7. Classical vs. Bayesian ANOVA:\n",
        "\n",
        "![image.png](data:image/png;base64,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)"
      ],
      "metadata": {
        "id": "IpVd1m2N9-ib"
      }
    },
    {
      "cell_type": "markdown",
      "source": [
        "\n",
        "\n",
        "Q8. Question: You have two sets of data representing the incomes of two different professions1\n",
        "V Profession A: [48, 52, 55, 60, 62'\n",
        "V Profession B: [45, 50, 55, 52, 47] Perform an F-test to determine if the variances of the two professions'\n",
        "incomes are equal. What are your conclusions based on the F-test?\n",
        "\n",
        "Task: Use Python to calculate the F-statistic and p-value for the given data.\n",
        "\n",
        "Objective: Gain experience in performing F-tests and interpreting the results in terms of variance comparison.\n",
        "\n",
        "A8."
      ],
      "metadata": {
        "id": "x36ZLbfT-CXo"
      }
    },
    {
      "cell_type": "code",
      "source": [
        "import scipy.stats as stats\n",
        "import numpy as np\n",
        "\n",
        "# Data for the two professions\n",
        "profession_a = [48, 52, 55, 60, 62]\n",
        "profession_b = [45, 50, 55, 52, 47]\n",
        "\n",
        "# Calculate variances\n",
        "var_a = np.var(profession_a, ddof=1)\n",
        "var_b = np.var(profession_b, ddof=1)\n",
        "\n",
        "# Calculate F-statistic\n",
        "f_stat = var_a / var_b\n",
        "\n",
        "# Degrees of freedom\n",
        "df1 = len(profession_a) - 1\n",
        "df2 = len(profession_b) - 1\n",
        "\n",
        "# Calculate p-value\n",
        "p_value = stats.f.cdf(f_stat, df1, df2)\n",
        "\n",
        "print(f\"F-statistic: {f_stat}\")\n",
        "print(f\"P-value: {p_value}\")\n"
      ],
      "metadata": {
        "colab": {
          "base_uri": "https://localhost:8080/"
        },
        "id": "7ZjgL7u9BPC8",
        "outputId": "0f2dc0d0-01bf-4415-87d1-1efdf2920881"
      },
      "execution_count": 2,
      "outputs": [
        {
          "output_type": "stream",
          "name": "stdout",
          "text": [
            "F-statistic: 2.089171974522293\n",
            "P-value: 0.7534757004973305\n"
          ]
        }
      ]
    },
    {
      "cell_type": "markdown",
      "source": [
        "\n",
        "\n",
        "Q9. Question: Conduct a one-way ANOVA to test whether there are any statistically significant differences in\n",
        "average heights between three different regions with the following data1\n",
        "V Region A: [160, 162, 165, 158, 164'\n",
        "V Region B: [172, 175, 170, 168, 174'\n",
        "V Region C: [180, 182, 179, 185, 183'\n",
        "V Task: Write Python code to perform the one-way ANOVA and interpret the results\n",
        "V Objective: Learn how to perform one-way ANOVA using Python and interpret F-statistic and p-value.\n"
      ],
      "metadata": {
        "id": "juP9Yod2-FaS"
      }
    },
    {
      "cell_type": "code",
      "execution_count": 3,
      "metadata": {
        "colab": {
          "base_uri": "https://localhost:8080/"
        },
        "id": "j_8dX-tN7m2Q",
        "outputId": "f0c8e63e-7af3-47c2-f314-9693d9238888"
      },
      "outputs": [
        {
          "output_type": "stream",
          "name": "stdout",
          "text": [
            "F-statistic: 67.87330316742101\n",
            "P-value: 2.870664187937026e-07\n"
          ]
        }
      ],
      "source": [
        "from scipy.stats import f_oneway\n",
        "\n",
        "# Heights data\n",
        "region_a = [160, 162, 165, 158, 164]\n",
        "region_b = [172, 175, 170, 168, 174]\n",
        "region_c = [180, 182, 179, 185, 183]\n",
        "\n",
        "# Perform one-way ANOVA\n",
        "f_stat, p_value = f_oneway(region_a, region_b, region_c)\n",
        "\n",
        "print(f\"F-statistic: {f_stat}\")\n",
        "print(f\"P-value: {p_value}\")\n"
      ]
    }
  ]
}