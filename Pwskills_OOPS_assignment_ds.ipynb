{
  "nbformat": 4,
  "nbformat_minor": 0,
  "metadata": {
    "colab": {
      "provenance": [],
      "authorship_tag": "ABX9TyO6W7yAJ+nGYWItpFmNL1Dk",
      "include_colab_link": true
    },
    "kernelspec": {
      "name": "python3",
      "display_name": "Python 3"
    },
    "language_info": {
      "name": "python"
    }
  },
  "cells": [
    {
      "cell_type": "markdown",
      "metadata": {
        "id": "view-in-github",
        "colab_type": "text"
      },
      "source": [
        "<a href=\"https://colab.research.google.com/github/Ansh3931up/DS_Assignment/blob/main/Pwskills_OOPS_assignment_ds.ipynb\" target=\"_parent\"><img src=\"https://colab.research.google.com/assets/colab-badge.svg\" alt=\"Open In Colab\"/></a>"
      ]
    },
    {
      "cell_type": "markdown",
      "source": [
        "1. What are the five key concepts of Object-Oriented Programming (OOP)?\n",
        "\n",
        "A1.The key concepts of OOPs are as follow:\n",
        "1. Inheritance:Method by which one child class inherit the property of it's parent class.\n",
        "2. Classes & Object: A class is a blueprint for creating objects and object is an instance of a class\n",
        "3. Polymorphism: Ability to present the same interface for different underlying data types for example method with same name behaving differently for different objects.\n",
        "4. Abstraction: Hiding the complex structure and implementation details and showing only the necessary features of object.\n",
        "5. Encapsulation: Bundling data and methods that operate on data within a single unit or class and restricting access to some components.\n",
        "\n"
      ],
      "metadata": {
        "id": "2mN9xctJD78I"
      }
    },
    {
      "cell_type": "markdown",
      "source": [
        "\n",
        "2. Write a Python class for a `Car` with attributes for `make`, `model`, and `year`. Include a method to display\n",
        "the car's information.\n"
      ],
      "metadata": {
        "id": "zW8mUGigEGfz"
      }
    },
    {
      "cell_type": "code",
      "source": [
        "class Car:\n",
        "  def __init__(self,make,model,year):\n",
        "    self.make=make\n",
        "    self.model=model\n",
        "    self.year=year\n",
        "\n",
        "  def display_info(self):\n",
        "    print(f\"Car:{self.year} {self.make} {self.model}\")\n",
        "\n",
        "\n",
        "my_car=Car(\"Tata\",\"XUV7OO\",2024)\n",
        "my_car.display_info()"
      ],
      "metadata": {
        "colab": {
          "base_uri": "https://localhost:8080/"
        },
        "id": "JEuqhZhuzLYh",
        "outputId": "0fd2491b-e2c6-4729-e1fd-6c8ed87640c4"
      },
      "execution_count": 1,
      "outputs": [
        {
          "output_type": "stream",
          "name": "stdout",
          "text": [
            "Car:2024 Tata XUV7OO\n"
          ]
        }
      ]
    },
    {
      "cell_type": "markdown",
      "source": [
        "\n",
        "\n",
        "Q3. Explain the difference between instance methods and class methods. Provide an example of each.\n",
        "\n",
        "A3. Instance Methods: It is like the normal function a class contains having `self` keyword as attribute .they can access instance attribute and methods.\n",
        "\n",
        "Class Methods:It operates on the class and don't require the instance of class to be defined. The attribute it uses is `cls` which is used for class\n",
        "\n"
      ],
      "metadata": {
        "id": "x1nzPfGEEJVc"
      }
    },
    {
      "cell_type": "code",
      "source": [
        "class Car:\n",
        "  def __init__(self,value):\n",
        "               self.value=value\n",
        "  def instance_method(self):\n",
        "    return f'Instance method:{self.value}'\n",
        "\n",
        "  @classmethod\n",
        "  def class_method(cls,value):\n",
        "    return f'Class method:{value}'\n",
        "\n",
        "obj1=Car.class_method(100)\n",
        "print(\"Obj1\",obj1)\n",
        "\n",
        "obj2=Car(10)\n",
        "print(obj2.instance_method())\n"
      ],
      "metadata": {
        "colab": {
          "base_uri": "https://localhost:8080/"
        },
        "id": "uzKI9QmU3DVr",
        "outputId": "1fd7e2bc-7bbe-48fe-ee1f-7fe0b4fec868"
      },
      "execution_count": 8,
      "outputs": [
        {
          "output_type": "stream",
          "name": "stdout",
          "text": [
            "Obj1 Class method:100\n",
            "Instance method:10\n"
          ]
        }
      ]
    },
    {
      "cell_type": "markdown",
      "source": [
        "\n",
        "Q4. How does Python implement method overloading? Give an example.\n",
        "\n",
        "A4. Pyhton does not support method overloading directly instaed we use default arguments or *args to achieve similar behavior."
      ],
      "metadata": {
        "id": "kSmwMOk7EL95"
      }
    },
    {
      "cell_type": "code",
      "source": [
        "class Example:\n",
        "  def mul(self,a,b,c=1):\n",
        "    return a*b*c\n",
        "\n",
        "ans=Example()\n",
        "print(ans.mul(10,10)) # multiplictaion for two values\n",
        "print(ans.mul(10,10,10)) # multiplication for three values\n"
      ],
      "metadata": {
        "colab": {
          "base_uri": "https://localhost:8080/"
        },
        "id": "hGuIzC3X3bfl",
        "outputId": "818c17db-08a8-4c8e-8479-6de119571388"
      },
      "execution_count": 9,
      "outputs": [
        {
          "output_type": "stream",
          "name": "stdout",
          "text": [
            "100\n",
            "1000\n"
          ]
        }
      ]
    },
    {
      "cell_type": "markdown",
      "source": [
        "\n",
        "\n",
        "Q5. What are the three types of access modifiers in Python? How are they denoted?\n",
        "\n",
        "A5. The three types of access modifiers in Python are as follow:\n",
        "1. Private : It is an access modifier which can be accessed only inside the given class not outside. We can denoted it using double underscore \"`__`\".\n",
        "2. Protected : It is an access modifier which can be accessed only inside it's own class and the child class.We can denoted it using single underscore \"`_`\".And also uses super keyword instead of selff in child to access it .\n",
        "3. Public: It is an access modififer which can be accessed everywhere and available to all .We denote it without using leading underscores.\n"
      ],
      "metadata": {
        "id": "lm5Wc08pEPa2"
      }
    },
    {
      "cell_type": "markdown",
      "source": [
        "\n",
        "Q6. Describe the five types of inheritance in Python. Provide a simple example of multiple inheritance.\n",
        "\n",
        "A6. The five types of inheritance in Python are:\n",
        "1. Single inheritance:Child class inherit single parent class.\n",
        "2. Multiple inheritnace: A child class inherits the property of multiple parent classes.'\n",
        "3. Multilevel inheritance:A class is derived from a classs which is also derived from another class for exmaple grandfather,father,son.\n",
        "4. Hierarchical inheritnace:One parent class has multiple child classes.\n",
        "5. Hybrid inheritance: A combination of two or more types of inheritance.\n"
      ],
      "metadata": {
        "id": "htr1BPiyESnA"
      }
    },
    {
      "cell_type": "code",
      "source": [
        "class A:\n",
        "  def method_a(self):\n",
        "    return \"a\"\n",
        "\n",
        "class B:\n",
        "  def method_b(self):\n",
        "    return \"b\"\n",
        "class C(A,B):\n",
        "  pass\n",
        "\n",
        "obj=C()\n",
        "print(obj.method_a())\n",
        "print(obj.method_b())"
      ],
      "metadata": {
        "colab": {
          "base_uri": "https://localhost:8080/"
        },
        "id": "uKXoZsY_8543",
        "outputId": "29888886-78a1-4133-b707-3fa7f204d5d4"
      },
      "execution_count": 11,
      "outputs": [
        {
          "output_type": "stream",
          "name": "stdout",
          "text": [
            "a\n",
            "b\n"
          ]
        }
      ]
    },
    {
      "cell_type": "markdown",
      "source": [
        "\n",
        "Q7. What is the Method Resolution Order (MRO) in Python? How can you retrieve it programmatically?\n",
        "\n",
        "A7.The MRO(Method Resolution Order) is an order of inheritance in python for hierarchy of classes.It is especially important in multiple inheritance having same function to avoid ambiguity.\n"
      ],
      "metadata": {
        "id": "DEyHMqheEWwT"
      }
    },
    {
      "cell_type": "code",
      "source": [
        "class a:\n",
        "  def method(self):\n",
        "    return \"a\"\n",
        "  pass\n",
        "\n",
        "class b():\n",
        "  def method(self):\n",
        "    return \"b\"\n",
        "  pass\n",
        "class c(a,b):\n",
        "  pass\n",
        "class d(a):\n",
        "  pass\n",
        "obje=c()\n",
        "print(obje.method())# show output of a as it is in first place in the function\n",
        "print(d.mro())\n",
        "# help(d)"
      ],
      "metadata": {
        "colab": {
          "base_uri": "https://localhost:8080/"
        },
        "id": "kk1Kg8xZ-Osp",
        "outputId": "7bd87a6b-d94c-424a-ff7a-4f8733c54b59"
      },
      "execution_count": 13,
      "outputs": [
        {
          "output_type": "stream",
          "name": "stdout",
          "text": [
            "a\n",
            "[<class '__main__.d'>, <class '__main__.a'>, <class 'object'>]\n"
          ]
        }
      ]
    },
    {
      "cell_type": "markdown",
      "source": [
        "\n",
        "8. Create an abstract base class `Shape` with an abstract method `area()`. Then create two subclasses\n",
        "`Circle` and `Rectangle` that implement the `area()` method.\n"
      ],
      "metadata": {
        "id": "FWVQ9qsPEZ9X"
      }
    },
    {
      "cell_type": "code",
      "source": [
        "from abc import ABC, abstractmethod\n",
        "\n",
        "class Shape(ABC):\n",
        "    @abstractmethod\n",
        "    def area(self):\n",
        "        pass\n",
        "\n",
        "class Circle(Shape):\n",
        "    def __init__(self, radius):\n",
        "        self.radius = radius\n",
        "\n",
        "    def area(self):\n",
        "        return 3.14 * self.radius ** 2\n",
        "\n",
        "class Rectangle(Shape):\n",
        "    def __init__(self, length, width):\n",
        "        self.length = length\n",
        "        self.width = width\n",
        "\n",
        "    def area(self):\n",
        "        return self.length * self.width\n"
      ],
      "metadata": {
        "id": "p3L9X69qGbzM"
      },
      "execution_count": 26,
      "outputs": []
    },
    {
      "cell_type": "markdown",
      "source": [
        "\n",
        "\n",
        "9. Demonstrate polymorphism by creating a function that can work with different shape objects to calculate\n",
        "and print their areas.\n",
        "\n"
      ],
      "metadata": {
        "id": "lsi1veK8EcmH"
      }
    },
    {
      "cell_type": "code",
      "source": [
        "from abc import ABC, abstractmethod\n",
        "\n",
        "class Shape(ABC):\n",
        "    @abstractmethod\n",
        "    def area(self):\n",
        "        pass\n",
        "\n",
        "class Circle(Shape):\n",
        "    def __init__(self, radius):\n",
        "        self.radius = radius\n",
        "\n",
        "    def area(self):\n",
        "        return 3.14 * self.radius ** 2\n",
        "\n",
        "class Rectangle(Shape):\n",
        "    def __init__(self, length, width):\n",
        "        self.length = length\n",
        "        self.width = width\n",
        "\n",
        "    def area(self):\n",
        "        return self.length * self.width\n",
        "def print_area(shape):\n",
        "    print(f\"The area is: {shape.area()}\")\n",
        "\n",
        "circle = Circle(5)\n",
        "rectangle = Rectangle(4, 6)\n",
        "\n",
        "print_area(circle)\n",
        "print_area(rectangle)\n"
      ],
      "metadata": {
        "colab": {
          "base_uri": "https://localhost:8080/"
        },
        "id": "Xti1UCx6HQMv",
        "outputId": "88a34dc1-80f6-42a1-8bad-e0f11e89c891"
      },
      "execution_count": 27,
      "outputs": [
        {
          "output_type": "stream",
          "name": "stdout",
          "text": [
            "The area is: 78.5\n",
            "The area is: 24\n"
          ]
        }
      ]
    },
    {
      "cell_type": "markdown",
      "source": [
        "\n",
        "10. Implement encapsulation in a `BankAccount` class with private attributes for `balance` and\n",
        "`account_number`. Include methods for deposit, withdrawal, and balance inquiry.\n"
      ],
      "metadata": {
        "id": "Nj9hf2lAEjh5"
      }
    },
    {
      "cell_type": "code",
      "source": [
        "class BankAccount:\n",
        "    def __init__(self, account_number, balance=0):\n",
        "        self.__account_number = account_number\n",
        "        self.__balance = balance\n",
        "\n",
        "    def deposit(self, amount):\n",
        "        self.__balance += amount\n",
        "\n",
        "    def withdraw(self, amount):\n",
        "        if self.__balance >= amount:\n",
        "            self.__balance -= amount\n",
        "        else:\n",
        "            print(\"Insufficient funds\")\n",
        "\n",
        "    def get_balance(self):\n",
        "        return self.__balance\n",
        "\n",
        "\n",
        "account = BankAccount('12345678', 1000)\n",
        "account.deposit(500)\n",
        "print(account.get_balance())\n"
      ],
      "metadata": {
        "colab": {
          "base_uri": "https://localhost:8080/"
        },
        "id": "5H_k5uxqH6q0",
        "outputId": "2952b131-d783-43e7-cfcf-bbe08e625ea4"
      },
      "execution_count": 29,
      "outputs": [
        {
          "output_type": "stream",
          "name": "stdout",
          "text": [
            "1500\n"
          ]
        }
      ]
    },
    {
      "cell_type": "markdown",
      "source": [
        "\n",
        "\n",
        "11. Write a class that overrides the `__str__` and `__add__` magic methods. What will these methods allow\n",
        "you to do?\n",
        "\n"
      ],
      "metadata": {
        "id": "KhsVRkvYErG1"
      }
    },
    {
      "cell_type": "code",
      "source": [
        "class MyClass:\n",
        "    def __init__(self, value):\n",
        "        self.value = value\n",
        "\n",
        "    def __str__(self):\n",
        "        return f\"MyClass with value {self.value}\"\n",
        "\n",
        "    def __add__(self, other):\n",
        "        return MyClass(self.value + other.value)\n",
        "\n",
        "obj1 = MyClass(10)\n",
        "obj2 = MyClass(20)\n",
        "obj3 = obj1 + obj2\n",
        "print(obj3)\n"
      ],
      "metadata": {
        "colab": {
          "base_uri": "https://localhost:8080/"
        },
        "id": "iSzrQmswHeWd",
        "outputId": "ceb561c8-0cee-4730-83ba-ed17f611ad0a"
      },
      "execution_count": 28,
      "outputs": [
        {
          "output_type": "stream",
          "name": "stdout",
          "text": [
            "MyClass with value 30\n"
          ]
        }
      ]
    },
    {
      "cell_type": "markdown",
      "source": [
        "\n",
        "Q12. Create a decorator that measures and prints the execution time of a function.\n",
        "\n"
      ],
      "metadata": {
        "id": "6FcexHqYEt0B"
      }
    },
    {
      "cell_type": "code",
      "source": [
        "import time\n",
        "def exe_time_decorator(func):\n",
        "  def wrapper():\n",
        "    t1=time.time()\n",
        "    res=func()\n",
        "    t2=time.time()\n",
        "    print(\"the machine take :\",t2-t1,\"time to execute the given code\")\n",
        "    return res\n",
        "  return wrapper\n",
        "\n",
        "@exe_time_decorator\n",
        "def function():\n",
        "  time.sleep(1)\n",
        "  print(3931*941)\n",
        "\n",
        "function()"
      ],
      "metadata": {
        "colab": {
          "base_uri": "https://localhost:8080/"
        },
        "id": "IZWQQYqwEZ3-",
        "outputId": "71814bbe-a995-4053-8dd6-0074dd5b42ea"
      },
      "execution_count": 25,
      "outputs": [
        {
          "output_type": "stream",
          "name": "stdout",
          "text": [
            "3699071\n",
            "the machine take : 1.0010721683502197 time to execute the given code\n"
          ]
        }
      ]
    },
    {
      "cell_type": "markdown",
      "source": [
        "\n",
        "Q13. Explain the concept of the Diamond Problem in multiple inheritance. How does Python resolve it?\n",
        "\n",
        "A13.The Diamond problem occurs in multiple inheritance when two classes inherit from the same base class.Python resolves this using MRO, which ensures that each class in the inheritance chain is called only once.\n"
      ],
      "metadata": {
        "id": "kf1A_ewSEvUU"
      }
    },
    {
      "cell_type": "code",
      "source": [
        "class A:\n",
        "    def method(self):\n",
        "        print(\"A\")\n",
        "\n",
        "class B(A):\n",
        "    def method(self):\n",
        "        print(\"B\")\n",
        "\n",
        "class C(A):\n",
        "    def method(self):\n",
        "        print(\"C\")\n",
        "\n",
        "class D(B, C):\n",
        "    pass\n",
        "\n",
        "obj = D()\n",
        "obj.method()  # as D use MRO order so B is in first palce in D function attribute"
      ],
      "metadata": {
        "colab": {
          "base_uri": "https://localhost:8080/"
        },
        "id": "zKSx8-chEKGx",
        "outputId": "0bd9f3d9-b36b-4f06-dde6-97233f0ee379"
      },
      "execution_count": 18,
      "outputs": [
        {
          "output_type": "stream",
          "name": "stdout",
          "text": [
            "B\n"
          ]
        }
      ]
    },
    {
      "cell_type": "markdown",
      "source": [
        "\n",
        "14. Write a class method that keeps track of the number of instances created from a class.\n"
      ],
      "metadata": {
        "id": "YevzOQmPExo1"
      }
    },
    {
      "cell_type": "code",
      "source": [
        "class count:\n",
        "  n=0\n",
        "  def __init__(self):\n",
        "    count.n+=1\n",
        "\n",
        "  @classmethod\n",
        "  def get_count(cls):\n",
        "    return cls.n\n",
        "\n",
        "print(count.get_count())\n",
        "obj1=count()\n",
        "obj2=count()\n",
        "obj3=count()\n",
        "print(count.get_count())"
      ],
      "metadata": {
        "colab": {
          "base_uri": "https://localhost:8080/"
        },
        "id": "Isj8_2HNC0UW",
        "outputId": "1197449e-ae37-47ce-99aa-e91994388bb8"
      },
      "execution_count": 17,
      "outputs": [
        {
          "output_type": "stream",
          "name": "stdout",
          "text": [
            "0\n",
            "3\n"
          ]
        }
      ]
    },
    {
      "cell_type": "markdown",
      "source": [
        "\n",
        "\n",
        "15. Implement a static method in a class that checks if a given year is a leap year."
      ],
      "metadata": {
        "id": "AnH96v-GEzR9"
      }
    },
    {
      "cell_type": "code",
      "source": [
        "class YearUtils:\n",
        "    @staticmethod\n",
        "    def is_leap_year(year):\n",
        "        return year % 4 == 0 and (year % 100 != 0 or year % 400 == 0)\n",
        "\n",
        "print(YearUtils.is_leap_year(2024))\n"
      ],
      "metadata": {
        "colab": {
          "base_uri": "https://localhost:8080/"
        },
        "id": "-VTMoGRUCh6A",
        "outputId": "fe24fad4-6288-48df-e83b-0f8d14665b3b"
      },
      "execution_count": 14,
      "outputs": [
        {
          "output_type": "stream",
          "name": "stdout",
          "text": [
            "True\n"
          ]
        }
      ]
    }
  ]
}