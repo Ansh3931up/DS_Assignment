{
  "nbformat": 4,
  "nbformat_minor": 0,
  "metadata": {
    "colab": {
      "provenance": [],
      "authorship_tag": "ABX9TyM9dIM/VTsvg7o47FXOrGZ3",
      "include_colab_link": true
    },
    "kernelspec": {
      "name": "python3",
      "display_name": "Python 3"
    },
    "language_info": {
      "name": "python"
    }
  },
  "cells": [
    {
      "cell_type": "markdown",
      "metadata": {
        "id": "view-in-github",
        "colab_type": "text"
      },
      "source": [
        "<a href=\"https://colab.research.google.com/github/Ansh3931up/DS_Assignment/blob/main/Pwskills_ds_OOPS_Assignment.ipynb\" target=\"_parent\"><img src=\"https://colab.research.google.com/assets/colab-badge.svg\" alt=\"Open In Colab\"/></a>"
      ]
    },
    {
      "cell_type": "markdown",
      "source": [
        "1. What are the five key concepts of Object-Oriented Programming (OOP)?\n",
        "\n"
      ],
      "metadata": {
        "id": "2mN9xctJD78I"
      }
    },
    {
      "cell_type": "markdown",
      "source": [
        "\n",
        "2. Write a Python class for a `Car` with attributes for `make`, `model`, and `year`. Include a method to display\n",
        "the car's information.\n"
      ],
      "metadata": {
        "id": "zW8mUGigEGfz"
      }
    },
    {
      "cell_type": "markdown",
      "source": [
        "\n",
        "\n",
        "3. Explain the difference between instance methods and class methods. Provide an example of each.\n",
        "\n"
      ],
      "metadata": {
        "id": "x1nzPfGEEJVc"
      }
    },
    {
      "cell_type": "markdown",
      "source": [
        "\n",
        "4. How does Python implement method overloading? Give an example.\n"
      ],
      "metadata": {
        "id": "kSmwMOk7EL95"
      }
    },
    {
      "cell_type": "markdown",
      "source": [
        "\n",
        "\n",
        "5. What are the three types of access modifiers in Python? How are they denoted?\n",
        "\n"
      ],
      "metadata": {
        "id": "lm5Wc08pEPa2"
      }
    },
    {
      "cell_type": "markdown",
      "source": [
        "\n",
        "6. Describe the five types of inheritance in Python. Provide a simple example of multiple inheritance.\n",
        "\n"
      ],
      "metadata": {
        "id": "htr1BPiyESnA"
      }
    },
    {
      "cell_type": "markdown",
      "source": [
        "\n",
        "7. What is the Method Resolution Order (MRO) in Python? How can you retrieve it programmatically?\n",
        "\n"
      ],
      "metadata": {
        "id": "DEyHMqheEWwT"
      }
    },
    {
      "cell_type": "markdown",
      "source": [
        "\n",
        "8. Create an abstract base class `Shape` with an abstract method `area()`. Then create two subclasses\n",
        "`Circle` and `Rectangle` that implement the `area()` method.\n"
      ],
      "metadata": {
        "id": "FWVQ9qsPEZ9X"
      }
    },
    {
      "cell_type": "markdown",
      "source": [
        "\n",
        "\n",
        "9. Demonstrate polymorphism by creating a function that can work with different shape objects to calculate\n",
        "and print their areas.\n",
        "\n"
      ],
      "metadata": {
        "id": "lsi1veK8EcmH"
      }
    },
    {
      "cell_type": "markdown",
      "source": [
        "\n",
        "10. Implement encapsulation in a `BankAccount` class with private attributes for `balance` and\n",
        "`account_number`. Include methods for deposit, withdrawal, and balance inquiry.\n"
      ],
      "metadata": {
        "id": "Nj9hf2lAEjh5"
      }
    },
    {
      "cell_type": "markdown",
      "source": [
        "\n",
        "\n",
        "11. Write a class that overrides the `__str__` and `__add__` magic methods. What will these methods allow\n",
        "you to do?\n",
        "\n"
      ],
      "metadata": {
        "id": "KhsVRkvYErG1"
      }
    },
    {
      "cell_type": "markdown",
      "source": [
        "\n",
        "12. Create a decorator that measures and prints the execution time of a function.\n",
        "\n"
      ],
      "metadata": {
        "id": "6FcexHqYEt0B"
      }
    },
    {
      "cell_type": "markdown",
      "source": [
        "\n",
        "13. Explain the concept of the Diamond Problem in multiple inheritance. How does Python resolve it?\n",
        "\n"
      ],
      "metadata": {
        "id": "kf1A_ewSEvUU"
      }
    },
    {
      "cell_type": "markdown",
      "source": [
        "\n",
        "14. Write a class method that keeps track of the number of instances created from a class.\n"
      ],
      "metadata": {
        "id": "YevzOQmPExo1"
      }
    },
    {
      "cell_type": "markdown",
      "source": [
        "\n",
        "\n",
        "15. Implement a static method in a class that checks if a given year is a leap year."
      ],
      "metadata": {
        "id": "AnH96v-GEzR9"
      }
    }
  ]
}